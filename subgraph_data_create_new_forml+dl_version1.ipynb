{
  "nbformat": 4,
  "nbformat_minor": 0,
  "metadata": {
    "colab": {
      "provenance": [],
      "machine_shape": "hm",
      "include_colab_link": true
    },
    "kernelspec": {
      "name": "python3",
      "display_name": "Python 3"
    },
    "language_info": {
      "name": "python"
    },
    "gpuClass": "standard"
  },
  "cells": [
    {
      "cell_type": "markdown",
      "metadata": {
        "id": "view-in-github",
        "colab_type": "text"
      },
      "source": [
        "<a href=\"https://colab.research.google.com/github/wzz010624/Scigraphexp/blob/main/subgraph_data_create_new_forml%2Bdl_version1.ipynb\" target=\"_parent\"><img src=\"https://colab.research.google.com/assets/colab-badge.svg\" alt=\"Open In Colab\"/></a>"
      ]
    },
    {
      "cell_type": "code",
      "execution_count": null,
      "metadata": {
        "colab": {
          "base_uri": "https://localhost:8080/"
        },
        "id": "1URPtwGIKdiC",
        "outputId": "6f6ec686-49fa-4e9d-a324-dbc143451930"
      },
      "outputs": [
        {
          "output_type": "stream",
          "name": "stdout",
          "text": [
            "Mounted at /content/drive\n"
          ]
        }
      ],
      "source": [
        "from google.colab import drive\n",
        "drive.mount('/content/drive')"
      ]
    },
    {
      "cell_type": "code",
      "source": [
        "!pip install torch_geometric"
      ],
      "metadata": {
        "colab": {
          "base_uri": "https://localhost:8080/"
        },
        "id": "PY72ce_MKipE",
        "outputId": "ffe275e1-af74-4615-a0fe-d4e8fca2f4b8"
      },
      "execution_count": null,
      "outputs": [
        {
          "output_type": "stream",
          "name": "stdout",
          "text": [
            "Looking in indexes: https://pypi.org/simple, https://us-python.pkg.dev/colab-wheels/public/simple/\n",
            "Collecting torch_geometric\n",
            "  Downloading torch_geometric-2.3.1.tar.gz (661 kB)\n",
            "\u001b[2K     \u001b[90m━━━━━━━━━━━━━━━━━━━━━━━━━━━━━━━━━━━━━━\u001b[0m \u001b[32m661.6/661.6 kB\u001b[0m \u001b[31m10.7 MB/s\u001b[0m eta \u001b[36m0:00:00\u001b[0m\n",
            "\u001b[?25h  Installing build dependencies ... \u001b[?25l\u001b[?25hdone\n",
            "  Getting requirements to build wheel ... \u001b[?25l\u001b[?25hdone\n",
            "  Preparing metadata (pyproject.toml) ... \u001b[?25l\u001b[?25hdone\n",
            "Requirement already satisfied: tqdm in /usr/local/lib/python3.10/dist-packages (from torch_geometric) (4.65.0)\n",
            "Requirement already satisfied: numpy in /usr/local/lib/python3.10/dist-packages (from torch_geometric) (1.22.4)\n",
            "Requirement already satisfied: scipy in /usr/local/lib/python3.10/dist-packages (from torch_geometric) (1.10.1)\n",
            "Requirement already satisfied: jinja2 in /usr/local/lib/python3.10/dist-packages (from torch_geometric) (3.1.2)\n",
            "Requirement already satisfied: requests in /usr/local/lib/python3.10/dist-packages (from torch_geometric) (2.27.1)\n",
            "Requirement already satisfied: pyparsing in /usr/local/lib/python3.10/dist-packages (from torch_geometric) (3.0.9)\n",
            "Requirement already satisfied: scikit-learn in /usr/local/lib/python3.10/dist-packages (from torch_geometric) (1.2.2)\n",
            "Requirement already satisfied: psutil>=5.8.0 in /usr/local/lib/python3.10/dist-packages (from torch_geometric) (5.9.5)\n",
            "Requirement already satisfied: MarkupSafe>=2.0 in /usr/local/lib/python3.10/dist-packages (from jinja2->torch_geometric) (2.1.2)\n",
            "Requirement already satisfied: urllib3<1.27,>=1.21.1 in /usr/local/lib/python3.10/dist-packages (from requests->torch_geometric) (1.26.15)\n",
            "Requirement already satisfied: certifi>=2017.4.17 in /usr/local/lib/python3.10/dist-packages (from requests->torch_geometric) (2022.12.7)\n",
            "Requirement already satisfied: charset-normalizer~=2.0.0 in /usr/local/lib/python3.10/dist-packages (from requests->torch_geometric) (2.0.12)\n",
            "Requirement already satisfied: idna<4,>=2.5 in /usr/local/lib/python3.10/dist-packages (from requests->torch_geometric) (3.4)\n",
            "Requirement already satisfied: joblib>=1.1.1 in /usr/local/lib/python3.10/dist-packages (from scikit-learn->torch_geometric) (1.2.0)\n",
            "Requirement already satisfied: threadpoolctl>=2.0.0 in /usr/local/lib/python3.10/dist-packages (from scikit-learn->torch_geometric) (3.1.0)\n",
            "Building wheels for collected packages: torch_geometric\n",
            "  Building wheel for torch_geometric (pyproject.toml) ... \u001b[?25l\u001b[?25hdone\n",
            "  Created wheel for torch_geometric: filename=torch_geometric-2.3.1-py3-none-any.whl size=910459 sha256=c6ef1f8c331cde30e41f22af648b4eb50d4094293915208578d8aee5f991ade6\n",
            "  Stored in directory: /root/.cache/pip/wheels/ac/dc/30/e2874821ff308ee67dcd7a66dbde912411e19e35a1addda028\n",
            "Successfully built torch_geometric\n",
            "Installing collected packages: torch_geometric\n",
            "Successfully installed torch_geometric-2.3.1\n"
          ]
        }
      ]
    },
    {
      "cell_type": "code",
      "source": [
        "import pickle\n",
        "#coauthor_dict[author_id][coauthor_id][paper_year] = [paper_id]\n",
        "# 保存为二进制文件\n",
        "with open('/content/drive/MyDrive/GNNdataset/merged_network_with_feature', 'rb') as f:\n",
        "    merged_network = pickle.load(f)"
      ],
      "metadata": {
        "id": "G2f-NdzbOqBt"
      },
      "execution_count": null,
      "outputs": []
    },
    {
      "cell_type": "code",
      "source": [
        "import pickle\n",
        "#coauthor_dict[author_id][coauthor_id][paper_year] = [paper_id]\n",
        "# 保存为二进制文件\n",
        "with open('/content/drive/MyDrive/GNNdataset/target_authors_by_year', 'rb') as f:\n",
        "    target_authors_by_year = pickle.load(f)"
      ],
      "metadata": {
        "id": "9RnlgJ-GO9Hy"
      },
      "execution_count": null,
      "outputs": []
    },
    {
      "cell_type": "code",
      "source": [
        "import pickle\n",
        "import numpy as np\n",
        "with open('/content/drive/MyDrive/GNNdataset/author_h_index_sequence.pickle', 'rb') as f:\n",
        "    author_h_index_sequence = pickle.load(f)\n",
        "# 保存为二进制文件\n",
        "with open('/content/drive/MyDrive/GNNdataset/authors_high_impact_sequence.pickle', 'rb') as f:\n",
        "    authors_high_impact_sequence = pickle.load(f)\n",
        "\n",
        "# 保存为二进制文件\n",
        "with open('/content/drive/MyDrive/GNNdataset/author_publication_sequence.pickle', 'rb') as f:\n",
        "    author_publication_sequence = pickle.load(f)\n",
        "\n",
        "# 保存为二进制文件\n",
        "with open('/content/drive/MyDrive/GNNdataset/author_citation_sequence.pickle', 'rb') as f:\n",
        "    author_citation_sequence = pickle.load(f)"
      ],
      "metadata": {
        "id": "bFuU2mvUO-Bp"
      },
      "execution_count": null,
      "outputs": []
    },
    {
      "cell_type": "code",
      "source": [
        "# 计算所有目标节点和目标引文\n",
        "all_target_nodes = []\n",
        "all_target_publication = []\n",
        "all_target_citations = []\n",
        "all_target_high_impact = []\n",
        "all_target_h_index = []\n",
        "all_target_variables = []\n",
        "for year, target_authors in target_authors_by_year.items():\n",
        "    for author_id in target_authors:\n",
        "        publication_years = sorted(author_publication_sequence[author_id].keys())\n",
        "        career_start_year = publication_years[0]\n",
        "        career_end_year = publication_years[-1]\n",
        "        target_year = career_start_year + 14\n",
        "        accumulated_publication = sum([author_publication_sequence[author_id].get(year, 0) for year in range(career_start_year, target_year+1)])\n",
        "        accumulated_citations = sum([author_citation_sequence[author_id].get(year, 0) for year in range(career_start_year, target_year+1)])\n",
        "        accumulated_high_impact = sum([authors_high_impact_sequence[author_id].get(year, 0) for year in range(career_start_year, target_year+1)])\n",
        "        all_target_nodes.append(f\"{author_id}_{year}\")\n",
        "        all_target_citations.append(accumulated_citations)\n",
        "        all_target_publication.append(accumulated_publication)\n",
        "        all_target_h_index.append(author_h_index_sequence[author_id].get(target_year, 0))\n",
        "        all_target_variables.append([accumulated_publication, accumulated_citations, accumulated_high_impact, author_h_index_sequence[author_id].get(target_year, 0)])"
      ],
      "metadata": {
        "id": "hyTbRoooO_7B"
      },
      "execution_count": null,
      "outputs": []
    },
    {
      "cell_type": "code",
      "source": [
        "import torch\n",
        "def edge_list_to_index_tensor(edge_list, node_id_to_int):\n",
        "    index_list = [(node_id_to_int[src], node_id_to_int[dst]) for src, dst in edge_list]\n",
        "    index_tensor = torch.tensor(index_list, dtype=torch.long).t().contiguous()\n",
        "    return index_tensor\n",
        "def extract_edge_features(edge_list, network):\n",
        "    edge_features = []\n",
        "    for src, dst in edge_list:\n",
        "        edge_data = network.edges[src, dst]\n",
        "        edge_features.append([edge_data['total_collaboration_count'], edge_data['collaboration_stability']])\n",
        "    return edge_features"
      ],
      "metadata": {
        "id": "JMJSTni8PIEm"
      },
      "execution_count": null,
      "outputs": []
    },
    {
      "cell_type": "code",
      "source": [
        "from torch_geometric.data import Data\n",
        "\n",
        "def create_train_test_masks(target_nodes, target_citations, train_ratio=0.8):\n",
        "    num_nodes = len(target_nodes)\n",
        "    num_train = int(num_nodes * train_ratio)\n",
        "    \n",
        "    train_mask = torch.zeros(num_nodes, dtype=torch.bool)\n",
        "    test_mask = torch.zeros(num_nodes, dtype=torch.bool)\n",
        "    \n",
        "    indices = torch.randperm(num_nodes)\n",
        "    train_indices = indices[:num_train]\n",
        "    test_indices = indices[num_train:]\n",
        "    \n",
        "    train_mask[train_indices] = True\n",
        "    test_mask[test_indices] = True\n",
        "    \n",
        "    return train_mask, test_mask"
      ],
      "metadata": {
        "id": "NejX9SHePKNA"
      },
      "execution_count": null,
      "outputs": []
    },
    {
      "cell_type": "code",
      "source": [
        "import torch\n",
        "import numpy as np\n",
        "\n",
        "def get_neighbors(merged_network, node_id):\n",
        "    neighbors = list(merged_network.neighbors(node_id))\n",
        "    return neighbors\n",
        "\n",
        "def compute_features_average(merged_network, neighbors):\n",
        "    features = [np.array(list(merged_network.nodes[neighbor].values())) for neighbor in neighbors]\n",
        "    return np.mean(features, axis=0)\n",
        "\n",
        "def compute_edge_features_average(merged_network, node_id, neighbors):\n",
        "    edge_features = [np.array(list(merged_network.edges[node_id, neighbor].values())) for neighbor in neighbors]\n",
        "    return np.mean(edge_features, axis=0)"
      ],
      "metadata": {
        "id": "elQSIGSHPM9_"
      },
      "execution_count": null,
      "outputs": []
    },
    {
      "cell_type": "code",
      "source": [
        "from torch_geometric.data import Data\n",
        "from typing import List\n",
        "\n",
        "def extract_subgraph(merged_network, target_node: str):\n",
        "    # Get the neighbors of the target node\n",
        "    neighbors = get_neighbors(merged_network, target_node)\n",
        "    \n",
        "    # Include the target node in the list\n",
        "    nodes = [target_node] + neighbors\n",
        "    \n",
        "    # Create subgraph\n",
        "    subgraph = merged_network.subgraph(nodes)\n",
        "    \n",
        "    return subgraph\n",
        "    \n",
        "def subgraph_to_pyg_data(subgraph, target_node, target_variables):\n",
        "    # The same code as before, until the definition of y.\n",
        "    node_features = []\n",
        "    subgraph_node_id_to_int = {}\n",
        "    \n",
        "    # Ensure that the target_node is always the first node in the subgraph.nodes list\n",
        "    nodes = [target_node] + [node for node in subgraph.nodes if node != target_node]\n",
        "    \n",
        "    for i, merged_node_id in enumerate(nodes):\n",
        "        node_features.append(list(subgraph.nodes[merged_node_id].values()))\n",
        "        subgraph_node_id_to_int[merged_node_id] = i\n",
        "\n",
        "    node_features = torch.tensor(node_features, dtype=torch.float)\n",
        "    edge_index = edge_list_to_index_tensor(list(subgraph.edges), subgraph_node_id_to_int)\n",
        "    edge_features = extract_edge_features(list(subgraph.edges), subgraph)\n",
        "    edge_attr = torch.tensor(edge_features, dtype=torch.float)\n",
        "    y = torch.tensor(target_variables, dtype=torch.float)\n",
        "\n",
        "    data = Data(x=node_features, edge_index=edge_index, edge_attr=edge_attr, y=y)\n",
        "    return data"
      ],
      "metadata": {
        "id": "FKX1ac9lPR5c"
      },
      "execution_count": null,
      "outputs": []
    },
    {
      "cell_type": "code",
      "source": [
        "from torch_geometric.data import Data\n",
        "from typing import List\n",
        "import pandas as pd\n",
        "\n",
        "def create_subgraph_pyg_data_list_and_df(merged_network, target_nodes: List[str], target_variables: List[List[float]]):\n",
        "    subgraph_pyg_data_list = []\n",
        "    machine_learning_data = []\n",
        "\n",
        "    merged_node_id_to_int = {merged_node_id: i for i, merged_node_id in enumerate(merged_network.nodes)}\n",
        "\n",
        "    # The same code as before, until the for loop.\n",
        "    for i, target_node in enumerate(target_nodes):\n",
        "        subgraph = extract_subgraph(merged_network, target_node)\n",
        "        # Pass all target variables to the subgraph_to_pyg_data function.\n",
        "        subgraph_pyg_data = subgraph_to_pyg_data(subgraph, target_node, target_variables[i])\n",
        "        subgraph_pyg_data_list.append(subgraph_pyg_data)\n",
        "\n",
        "        # Compute average features for neighbors\n",
        "        neighbors = get_neighbors(merged_network, target_node)\n",
        "        neighbor_features_avg = compute_features_average(merged_network, neighbors)\n",
        "        edge_features_avg = compute_edge_features_average(merged_network, target_node, neighbors)\n",
        "\n",
        "        # Get target node features\n",
        "        target_node_features = subgraph_pyg_data.x[0].numpy()\n",
        "\n",
        "        # Add all target variables to the row.\n",
        "        row = [target_node, *target_node_features, *neighbor_features_avg, *edge_features_avg, target_variables[i]]\n",
        "        machine_learning_data.append(row)\n",
        "    # The rest of the function stays the same.\n",
        "    # Create DataFrame\n",
        "    columns = [\"merged_node_id\"] + [f\"node_feature_{i}\" for i in range(target_node_features.shape[0])] + \\\n",
        "              [f\"neighbor_feature_{i}\" for i in range(target_node_features.shape[0])] + \\\n",
        "              [f\"edge_feature_{i}\" for i in range(subgraph_pyg_data.edge_attr.shape[1])] + [\"y\"]\n",
        "    machine_learning_df = pd.DataFrame(machine_learning_data, columns=columns)\n",
        "\n",
        "    return subgraph_pyg_data_list, machine_learning_df\n",
        "\n",
        "  \n",
        "subgraph_pyg_data_list, machine_learning_df = create_subgraph_pyg_data_list_and_df(merged_network, all_target_nodes, all_target_variables)"
      ],
      "metadata": {
        "id": "KiPcCljAPVmW"
      },
      "execution_count": null,
      "outputs": []
    },
    {
      "cell_type": "code",
      "source": [
        "'''# Calculate the median of y values in the entire dataset\n",
        "y_values = machine_learning_df['y']\n",
        "y_median = y_values.median()\n",
        "\n",
        "# Binarize the y values based on the median\n",
        "def binarize_y_values(y_values, y_median):\n",
        "    return (y_values > y_median).astype(int)\n",
        "\n",
        "# Binarize y values in subgraph_pyg_data_list\n",
        "for subgraph_data in subgraph_pyg_data_list:\n",
        "    subgraph_data.y = torch.tensor(binarize_y_values(subgraph_data.y.numpy(), y_median), dtype=torch.float)''"
      ],
      "metadata": {
        "id": "Im1JOhPFVCQ4"
      },
      "execution_count": null,
      "outputs": []
    },
    {
      "cell_type": "code",
      "source": [
        "import pickle\n",
        "\n",
        "def train_test_split_subgraph_pyg_data_list_and_df(subgraph_pyg_data_list, machine_learning_df, train_ratio=0.8):\n",
        "    num_nodes = len(subgraph_pyg_data_list)\n",
        "    num_train = int(num_nodes * train_ratio)\n",
        "    \n",
        "    indices = torch.randperm(num_nodes)\n",
        "    train_indices = indices[:num_train]\n",
        "    test_indices = indices[num_train:]\n",
        "    \n",
        "    # Split subgraph_pyg_data_list\n",
        "    train_subgraph_pyg_data_list = [subgraph_pyg_data_list[i] for i in train_indices]\n",
        "    test_subgraph_pyg_data_list = [subgraph_pyg_data_list[i] for i in test_indices]\n",
        "    \n",
        "    # Split machine_learning_df\n",
        "    train_machine_learning_df = machine_learning_df.iloc[train_indices]\n",
        "    test_machine_learning_df = machine_learning_df.iloc[test_indices]\n",
        "    \n",
        "    return train_subgraph_pyg_data_list, test_subgraph_pyg_data_list, train_machine_learning_df, test_machine_learning_df\n",
        "\n",
        "# Perform train-test split\n",
        "train_subgraph_pyg_data_list, test_subgraph_pyg_data_list, train_machine_learning_df, test_machine_learning_df = train_test_split_subgraph_pyg_data_list_and_df(subgraph_pyg_data_list, machine_learning_df)"
      ],
      "metadata": {
        "id": "ifaMidC7VNQg"
      },
      "execution_count": null,
      "outputs": []
    },
    {
      "cell_type": "code",
      "source": [
        "train_subgraph_pyg_data_list[0].y"
      ],
      "metadata": {
        "colab": {
          "base_uri": "https://localhost:8080/"
        },
        "id": "1oya6qb-6LN0",
        "outputId": "b1c7ff4d-6919-4909-e1a2-b926d359d419"
      },
      "execution_count": null,
      "outputs": [
        {
          "output_type": "execute_result",
          "data": {
            "text/plain": [
              "tensor([14., 44.,  0.,  4.])"
            ]
          },
          "metadata": {},
          "execution_count": 20
        }
      ]
    },
    {
      "cell_type": "code",
      "source": [
        "53f4d1d1dabfaeedd477f8d2"
      ],
      "metadata": {
        "id": "ggqUz72P7JL2"
      },
      "execution_count": null,
      "outputs": []
    },
    {
      "cell_type": "code",
      "source": [
        "author_id = \"54592ab3dabfaeb0fe334a7e\"\n",
        "publication_years = sorted(author_publication_sequence[author_id].keys())\n",
        "career_start_year = publication_years[0]\n",
        "career_end_year = publication_years[-1]\n",
        "target_year = career_start_year + 14\n",
        "accumulated_publication = sum([author_publication_sequence[author_id].get(year, 0) for year in range(career_start_year, target_year+1)])\n",
        "accumulated_citations = sum([author_citation_sequence[author_id].get(year, 0) for year in range(career_start_year, target_year+1)])\n",
        "accumulated_high_impact = sum([authors_high_impact_sequence[author_id].get(year, 0) for year in range(career_start_year, target_year+1)])\n",
        "accumulated_publication, accumulated_citations, accumulated_high_impact, author_h_index_sequence[author_id].get(target_year, 0)"
      ],
      "metadata": {
        "colab": {
          "base_uri": "https://localhost:8080/"
        },
        "id": "PTk3b1m37uQ2",
        "outputId": "538e3b0f-7945-4c9a-a4a1-4b1308d9686a"
      },
      "execution_count": null,
      "outputs": [
        {
          "output_type": "execute_result",
          "data": {
            "text/plain": [
              "(14, 44, 0, 4)"
            ]
          },
          "metadata": {},
          "execution_count": 18
        }
      ]
    },
    {
      "cell_type": "code",
      "source": [
        "train_machine_learning_df"
      ],
      "metadata": {
        "colab": {
          "base_uri": "https://localhost:8080/",
          "height": 834
        },
        "id": "PM9kOTzx6DQO",
        "outputId": "7f1cf721-3e2e-4b3a-ded0-2f318d286a9a"
      },
      "execution_count": null,
      "outputs": [
        {
          "output_type": "execute_result",
          "data": {
            "text/plain": [
              "                      merged_node_id  node_feature_0  node_feature_1  \\\n",
              "19813  54592ab3dabfaeb0fe334a7e_1999             1.0             0.2   \n",
              "71978  53f434eddabfaee2a1cd9156_2009            11.0             2.2   \n",
              "87123  53f438d5dabfaec09f194596_2010             5.0             1.0   \n",
              "86162  540923eadabfae8faa66edd6_2010             6.0             1.2   \n",
              "14063  53f43446dabfaedce551a9b3_1997             8.0             1.6   \n",
              "...                              ...             ...             ...   \n",
              "1237   53f4476cdabfaee1c0af0890_1982             4.0             0.8   \n",
              "54072  53f39787dabfae4b34a7c1c2_2006             4.0             0.8   \n",
              "58851  53f58e47dabfaed7b3f8045b_2007            12.0             2.4   \n",
              "43544  53f44a5edabfaeb1a7c3ca29_2004             2.0             0.4   \n",
              "89828  53f432a8dabfaee2a1cbff32_2011            18.0             3.6   \n",
              "\n",
              "       node_feature_2  node_feature_3  node_feature_4  node_feature_5  \\\n",
              "19813             1.0        0.200000             1.0             0.0   \n",
              "71978            57.0       11.400000             5.0             1.0   \n",
              "87123            99.0       19.799999             4.0             0.0   \n",
              "86162             0.0        0.000000             1.0             0.0   \n",
              "14063             3.0        0.600000             1.0             0.0   \n",
              "...               ...             ...             ...             ...   \n",
              "1237              4.0        0.800000             1.0             0.0   \n",
              "54072             4.0        0.800000             1.0             0.0   \n",
              "58851            61.0       12.200000             4.0             0.0   \n",
              "43544             4.0        0.800000             1.0             0.0   \n",
              "89828           129.0       25.799999             5.0             0.0   \n",
              "\n",
              "       node_feature_6  node_feature_7  node_feature_8  ...  \\\n",
              "19813             0.0             1.0             0.2  ...   \n",
              "71978             0.2            11.0             2.2  ...   \n",
              "87123             0.0             6.0             1.2  ...   \n",
              "86162             0.0            13.0             2.6  ...   \n",
              "14063             0.0             8.0             1.6  ...   \n",
              "...               ...             ...             ...  ...   \n",
              "1237              0.0             3.0             0.6  ...   \n",
              "54072             0.0             3.0             0.6  ...   \n",
              "58851             0.0            11.0             2.2  ...   \n",
              "43544             0.0             2.0             0.4  ...   \n",
              "89828             0.0            41.0             8.2  ...   \n",
              "\n",
              "       neighbor_feature_18  neighbor_feature_19  neighbor_feature_20  \\\n",
              "19813            12.000000             0.117647             0.250000   \n",
              "71978             8.454545             0.326364             0.518477   \n",
              "87123            11.333333             0.386392             0.648679   \n",
              "86162             5.538462             0.164233             0.466283   \n",
              "14063             9.250000             0.290529             0.455631   \n",
              "...                    ...                  ...                  ...   \n",
              "1237              6.666667             0.252057             0.315593   \n",
              "54072             7.666667             0.366182             0.640241   \n",
              "58851             5.000000             0.410241             0.633509   \n",
              "43544            15.000000             0.356750             0.417199   \n",
              "89828            10.170732             0.385134             0.661683   \n",
              "\n",
              "       neighbor_feature_21  neighbor_feature_22  neighbor_feature_23  \\\n",
              "19813             0.000000             0.000000             0.000000   \n",
              "71978             0.655484             0.422169             0.316796   \n",
              "87123             0.692649             0.495843             0.104625   \n",
              "86162             0.122559             0.170969             0.034188   \n",
              "14063             0.595907             0.288793             0.041667   \n",
              "...                    ...                  ...                  ...   \n",
              "1237              0.254960             0.000000             0.000000   \n",
              "54072             0.624763             0.354814             0.083333   \n",
              "58851             0.492344             0.303659             0.142123   \n",
              "43544             0.388943             0.269347             0.000000   \n",
              "89828             0.734570             0.501293             0.315850   \n",
              "\n",
              "       neighbor_feature_24  edge_feature_0  edge_feature_1                  y  \n",
              "19813             0.218182        1.000000        0.000000     [14, 44, 0, 4]  \n",
              "71978             0.457183        2.090909        0.318182    [19, 277, 1, 8]  \n",
              "87123             0.620381        1.833333        0.250000    [31, 517, 0, 7]  \n",
              "86162             0.385808        1.230769        0.076923      [10, 3, 0, 1]  \n",
              "14063             0.370614        1.125000        0.125000    [26, 118, 0, 7]  \n",
              "...                    ...             ...             ...                ...  \n",
              "1237              0.242593        1.000000        0.000000    [18, 122, 2, 5]  \n",
              "54072             0.562805        1.666667        0.333333   [70, 509, 2, 13]  \n",
              "58851             0.504877        2.454545        0.227273   [56, 685, 2, 14]  \n",
              "43544             0.431461        1.000000        0.000000     [16, 59, 1, 5]  \n",
              "89828             0.554206        1.780488        0.120122  [71, 1005, 2, 13]  \n",
              "\n",
              "[74098 rows x 54 columns]"
            ],
            "text/html": [
              "\n",
              "  <div id=\"df-dced37be-c17a-4aaf-99a2-d087c26b3550\">\n",
              "    <div class=\"colab-df-container\">\n",
              "      <div>\n",
              "<style scoped>\n",
              "    .dataframe tbody tr th:only-of-type {\n",
              "        vertical-align: middle;\n",
              "    }\n",
              "\n",
              "    .dataframe tbody tr th {\n",
              "        vertical-align: top;\n",
              "    }\n",
              "\n",
              "    .dataframe thead th {\n",
              "        text-align: right;\n",
              "    }\n",
              "</style>\n",
              "<table border=\"1\" class=\"dataframe\">\n",
              "  <thead>\n",
              "    <tr style=\"text-align: right;\">\n",
              "      <th></th>\n",
              "      <th>merged_node_id</th>\n",
              "      <th>node_feature_0</th>\n",
              "      <th>node_feature_1</th>\n",
              "      <th>node_feature_2</th>\n",
              "      <th>node_feature_3</th>\n",
              "      <th>node_feature_4</th>\n",
              "      <th>node_feature_5</th>\n",
              "      <th>node_feature_6</th>\n",
              "      <th>node_feature_7</th>\n",
              "      <th>node_feature_8</th>\n",
              "      <th>...</th>\n",
              "      <th>neighbor_feature_18</th>\n",
              "      <th>neighbor_feature_19</th>\n",
              "      <th>neighbor_feature_20</th>\n",
              "      <th>neighbor_feature_21</th>\n",
              "      <th>neighbor_feature_22</th>\n",
              "      <th>neighbor_feature_23</th>\n",
              "      <th>neighbor_feature_24</th>\n",
              "      <th>edge_feature_0</th>\n",
              "      <th>edge_feature_1</th>\n",
              "      <th>y</th>\n",
              "    </tr>\n",
              "  </thead>\n",
              "  <tbody>\n",
              "    <tr>\n",
              "      <th>19813</th>\n",
              "      <td>54592ab3dabfaeb0fe334a7e_1999</td>\n",
              "      <td>1.0</td>\n",
              "      <td>0.2</td>\n",
              "      <td>1.0</td>\n",
              "      <td>0.200000</td>\n",
              "      <td>1.0</td>\n",
              "      <td>0.0</td>\n",
              "      <td>0.0</td>\n",
              "      <td>1.0</td>\n",
              "      <td>0.2</td>\n",
              "      <td>...</td>\n",
              "      <td>12.000000</td>\n",
              "      <td>0.117647</td>\n",
              "      <td>0.250000</td>\n",
              "      <td>0.000000</td>\n",
              "      <td>0.000000</td>\n",
              "      <td>0.000000</td>\n",
              "      <td>0.218182</td>\n",
              "      <td>1.000000</td>\n",
              "      <td>0.000000</td>\n",
              "      <td>[14, 44, 0, 4]</td>\n",
              "    </tr>\n",
              "    <tr>\n",
              "      <th>71978</th>\n",
              "      <td>53f434eddabfaee2a1cd9156_2009</td>\n",
              "      <td>11.0</td>\n",
              "      <td>2.2</td>\n",
              "      <td>57.0</td>\n",
              "      <td>11.400000</td>\n",
              "      <td>5.0</td>\n",
              "      <td>1.0</td>\n",
              "      <td>0.2</td>\n",
              "      <td>11.0</td>\n",
              "      <td>2.2</td>\n",
              "      <td>...</td>\n",
              "      <td>8.454545</td>\n",
              "      <td>0.326364</td>\n",
              "      <td>0.518477</td>\n",
              "      <td>0.655484</td>\n",
              "      <td>0.422169</td>\n",
              "      <td>0.316796</td>\n",
              "      <td>0.457183</td>\n",
              "      <td>2.090909</td>\n",
              "      <td>0.318182</td>\n",
              "      <td>[19, 277, 1, 8]</td>\n",
              "    </tr>\n",
              "    <tr>\n",
              "      <th>87123</th>\n",
              "      <td>53f438d5dabfaec09f194596_2010</td>\n",
              "      <td>5.0</td>\n",
              "      <td>1.0</td>\n",
              "      <td>99.0</td>\n",
              "      <td>19.799999</td>\n",
              "      <td>4.0</td>\n",
              "      <td>0.0</td>\n",
              "      <td>0.0</td>\n",
              "      <td>6.0</td>\n",
              "      <td>1.2</td>\n",
              "      <td>...</td>\n",
              "      <td>11.333333</td>\n",
              "      <td>0.386392</td>\n",
              "      <td>0.648679</td>\n",
              "      <td>0.692649</td>\n",
              "      <td>0.495843</td>\n",
              "      <td>0.104625</td>\n",
              "      <td>0.620381</td>\n",
              "      <td>1.833333</td>\n",
              "      <td>0.250000</td>\n",
              "      <td>[31, 517, 0, 7]</td>\n",
              "    </tr>\n",
              "    <tr>\n",
              "      <th>86162</th>\n",
              "      <td>540923eadabfae8faa66edd6_2010</td>\n",
              "      <td>6.0</td>\n",
              "      <td>1.2</td>\n",
              "      <td>0.0</td>\n",
              "      <td>0.000000</td>\n",
              "      <td>1.0</td>\n",
              "      <td>0.0</td>\n",
              "      <td>0.0</td>\n",
              "      <td>13.0</td>\n",
              "      <td>2.6</td>\n",
              "      <td>...</td>\n",
              "      <td>5.538462</td>\n",
              "      <td>0.164233</td>\n",
              "      <td>0.466283</td>\n",
              "      <td>0.122559</td>\n",
              "      <td>0.170969</td>\n",
              "      <td>0.034188</td>\n",
              "      <td>0.385808</td>\n",
              "      <td>1.230769</td>\n",
              "      <td>0.076923</td>\n",
              "      <td>[10, 3, 0, 1]</td>\n",
              "    </tr>\n",
              "    <tr>\n",
              "      <th>14063</th>\n",
              "      <td>53f43446dabfaedce551a9b3_1997</td>\n",
              "      <td>8.0</td>\n",
              "      <td>1.6</td>\n",
              "      <td>3.0</td>\n",
              "      <td>0.600000</td>\n",
              "      <td>1.0</td>\n",
              "      <td>0.0</td>\n",
              "      <td>0.0</td>\n",
              "      <td>8.0</td>\n",
              "      <td>1.6</td>\n",
              "      <td>...</td>\n",
              "      <td>9.250000</td>\n",
              "      <td>0.290529</td>\n",
              "      <td>0.455631</td>\n",
              "      <td>0.595907</td>\n",
              "      <td>0.288793</td>\n",
              "      <td>0.041667</td>\n",
              "      <td>0.370614</td>\n",
              "      <td>1.125000</td>\n",
              "      <td>0.125000</td>\n",
              "      <td>[26, 118, 0, 7]</td>\n",
              "    </tr>\n",
              "    <tr>\n",
              "      <th>...</th>\n",
              "      <td>...</td>\n",
              "      <td>...</td>\n",
              "      <td>...</td>\n",
              "      <td>...</td>\n",
              "      <td>...</td>\n",
              "      <td>...</td>\n",
              "      <td>...</td>\n",
              "      <td>...</td>\n",
              "      <td>...</td>\n",
              "      <td>...</td>\n",
              "      <td>...</td>\n",
              "      <td>...</td>\n",
              "      <td>...</td>\n",
              "      <td>...</td>\n",
              "      <td>...</td>\n",
              "      <td>...</td>\n",
              "      <td>...</td>\n",
              "      <td>...</td>\n",
              "      <td>...</td>\n",
              "      <td>...</td>\n",
              "      <td>...</td>\n",
              "    </tr>\n",
              "    <tr>\n",
              "      <th>1237</th>\n",
              "      <td>53f4476cdabfaee1c0af0890_1982</td>\n",
              "      <td>4.0</td>\n",
              "      <td>0.8</td>\n",
              "      <td>4.0</td>\n",
              "      <td>0.800000</td>\n",
              "      <td>1.0</td>\n",
              "      <td>0.0</td>\n",
              "      <td>0.0</td>\n",
              "      <td>3.0</td>\n",
              "      <td>0.6</td>\n",
              "      <td>...</td>\n",
              "      <td>6.666667</td>\n",
              "      <td>0.252057</td>\n",
              "      <td>0.315593</td>\n",
              "      <td>0.254960</td>\n",
              "      <td>0.000000</td>\n",
              "      <td>0.000000</td>\n",
              "      <td>0.242593</td>\n",
              "      <td>1.000000</td>\n",
              "      <td>0.000000</td>\n",
              "      <td>[18, 122, 2, 5]</td>\n",
              "    </tr>\n",
              "    <tr>\n",
              "      <th>54072</th>\n",
              "      <td>53f39787dabfae4b34a7c1c2_2006</td>\n",
              "      <td>4.0</td>\n",
              "      <td>0.8</td>\n",
              "      <td>4.0</td>\n",
              "      <td>0.800000</td>\n",
              "      <td>1.0</td>\n",
              "      <td>0.0</td>\n",
              "      <td>0.0</td>\n",
              "      <td>3.0</td>\n",
              "      <td>0.6</td>\n",
              "      <td>...</td>\n",
              "      <td>7.666667</td>\n",
              "      <td>0.366182</td>\n",
              "      <td>0.640241</td>\n",
              "      <td>0.624763</td>\n",
              "      <td>0.354814</td>\n",
              "      <td>0.083333</td>\n",
              "      <td>0.562805</td>\n",
              "      <td>1.666667</td>\n",
              "      <td>0.333333</td>\n",
              "      <td>[70, 509, 2, 13]</td>\n",
              "    </tr>\n",
              "    <tr>\n",
              "      <th>58851</th>\n",
              "      <td>53f58e47dabfaed7b3f8045b_2007</td>\n",
              "      <td>12.0</td>\n",
              "      <td>2.4</td>\n",
              "      <td>61.0</td>\n",
              "      <td>12.200000</td>\n",
              "      <td>4.0</td>\n",
              "      <td>0.0</td>\n",
              "      <td>0.0</td>\n",
              "      <td>11.0</td>\n",
              "      <td>2.2</td>\n",
              "      <td>...</td>\n",
              "      <td>5.000000</td>\n",
              "      <td>0.410241</td>\n",
              "      <td>0.633509</td>\n",
              "      <td>0.492344</td>\n",
              "      <td>0.303659</td>\n",
              "      <td>0.142123</td>\n",
              "      <td>0.504877</td>\n",
              "      <td>2.454545</td>\n",
              "      <td>0.227273</td>\n",
              "      <td>[56, 685, 2, 14]</td>\n",
              "    </tr>\n",
              "    <tr>\n",
              "      <th>43544</th>\n",
              "      <td>53f44a5edabfaeb1a7c3ca29_2004</td>\n",
              "      <td>2.0</td>\n",
              "      <td>0.4</td>\n",
              "      <td>4.0</td>\n",
              "      <td>0.800000</td>\n",
              "      <td>1.0</td>\n",
              "      <td>0.0</td>\n",
              "      <td>0.0</td>\n",
              "      <td>2.0</td>\n",
              "      <td>0.4</td>\n",
              "      <td>...</td>\n",
              "      <td>15.000000</td>\n",
              "      <td>0.356750</td>\n",
              "      <td>0.417199</td>\n",
              "      <td>0.388943</td>\n",
              "      <td>0.269347</td>\n",
              "      <td>0.000000</td>\n",
              "      <td>0.431461</td>\n",
              "      <td>1.000000</td>\n",
              "      <td>0.000000</td>\n",
              "      <td>[16, 59, 1, 5]</td>\n",
              "    </tr>\n",
              "    <tr>\n",
              "      <th>89828</th>\n",
              "      <td>53f432a8dabfaee2a1cbff32_2011</td>\n",
              "      <td>18.0</td>\n",
              "      <td>3.6</td>\n",
              "      <td>129.0</td>\n",
              "      <td>25.799999</td>\n",
              "      <td>5.0</td>\n",
              "      <td>0.0</td>\n",
              "      <td>0.0</td>\n",
              "      <td>41.0</td>\n",
              "      <td>8.2</td>\n",
              "      <td>...</td>\n",
              "      <td>10.170732</td>\n",
              "      <td>0.385134</td>\n",
              "      <td>0.661683</td>\n",
              "      <td>0.734570</td>\n",
              "      <td>0.501293</td>\n",
              "      <td>0.315850</td>\n",
              "      <td>0.554206</td>\n",
              "      <td>1.780488</td>\n",
              "      <td>0.120122</td>\n",
              "      <td>[71, 1005, 2, 13]</td>\n",
              "    </tr>\n",
              "  </tbody>\n",
              "</table>\n",
              "<p>74098 rows × 54 columns</p>\n",
              "</div>\n",
              "      <button class=\"colab-df-convert\" onclick=\"convertToInteractive('df-dced37be-c17a-4aaf-99a2-d087c26b3550')\"\n",
              "              title=\"Convert this dataframe to an interactive table.\"\n",
              "              style=\"display:none;\">\n",
              "        \n",
              "  <svg xmlns=\"http://www.w3.org/2000/svg\" height=\"24px\"viewBox=\"0 0 24 24\"\n",
              "       width=\"24px\">\n",
              "    <path d=\"M0 0h24v24H0V0z\" fill=\"none\"/>\n",
              "    <path d=\"M18.56 5.44l.94 2.06.94-2.06 2.06-.94-2.06-.94-.94-2.06-.94 2.06-2.06.94zm-11 1L8.5 8.5l.94-2.06 2.06-.94-2.06-.94L8.5 2.5l-.94 2.06-2.06.94zm10 10l.94 2.06.94-2.06 2.06-.94-2.06-.94-.94-2.06-.94 2.06-2.06.94z\"/><path d=\"M17.41 7.96l-1.37-1.37c-.4-.4-.92-.59-1.43-.59-.52 0-1.04.2-1.43.59L10.3 9.45l-7.72 7.72c-.78.78-.78 2.05 0 2.83L4 21.41c.39.39.9.59 1.41.59.51 0 1.02-.2 1.41-.59l7.78-7.78 2.81-2.81c.8-.78.8-2.07 0-2.86zM5.41 20L4 18.59l7.72-7.72 1.47 1.35L5.41 20z\"/>\n",
              "  </svg>\n",
              "      </button>\n",
              "      \n",
              "  <style>\n",
              "    .colab-df-container {\n",
              "      display:flex;\n",
              "      flex-wrap:wrap;\n",
              "      gap: 12px;\n",
              "    }\n",
              "\n",
              "    .colab-df-convert {\n",
              "      background-color: #E8F0FE;\n",
              "      border: none;\n",
              "      border-radius: 50%;\n",
              "      cursor: pointer;\n",
              "      display: none;\n",
              "      fill: #1967D2;\n",
              "      height: 32px;\n",
              "      padding: 0 0 0 0;\n",
              "      width: 32px;\n",
              "    }\n",
              "\n",
              "    .colab-df-convert:hover {\n",
              "      background-color: #E2EBFA;\n",
              "      box-shadow: 0px 1px 2px rgba(60, 64, 67, 0.3), 0px 1px 3px 1px rgba(60, 64, 67, 0.15);\n",
              "      fill: #174EA6;\n",
              "    }\n",
              "\n",
              "    [theme=dark] .colab-df-convert {\n",
              "      background-color: #3B4455;\n",
              "      fill: #D2E3FC;\n",
              "    }\n",
              "\n",
              "    [theme=dark] .colab-df-convert:hover {\n",
              "      background-color: #434B5C;\n",
              "      box-shadow: 0px 1px 3px 1px rgba(0, 0, 0, 0.15);\n",
              "      filter: drop-shadow(0px 1px 2px rgba(0, 0, 0, 0.3));\n",
              "      fill: #FFFFFF;\n",
              "    }\n",
              "  </style>\n",
              "\n",
              "      <script>\n",
              "        const buttonEl =\n",
              "          document.querySelector('#df-dced37be-c17a-4aaf-99a2-d087c26b3550 button.colab-df-convert');\n",
              "        buttonEl.style.display =\n",
              "          google.colab.kernel.accessAllowed ? 'block' : 'none';\n",
              "\n",
              "        async function convertToInteractive(key) {\n",
              "          const element = document.querySelector('#df-dced37be-c17a-4aaf-99a2-d087c26b3550');\n",
              "          const dataTable =\n",
              "            await google.colab.kernel.invokeFunction('convertToInteractive',\n",
              "                                                     [key], {});\n",
              "          if (!dataTable) return;\n",
              "\n",
              "          const docLinkHtml = 'Like what you see? Visit the ' +\n",
              "            '<a target=\"_blank\" href=https://colab.research.google.com/notebooks/data_table.ipynb>data table notebook</a>'\n",
              "            + ' to learn more about interactive tables.';\n",
              "          element.innerHTML = '';\n",
              "          dataTable['output_type'] = 'display_data';\n",
              "          await google.colab.output.renderOutput(dataTable, element);\n",
              "          const docLink = document.createElement('div');\n",
              "          docLink.innerHTML = docLinkHtml;\n",
              "          element.appendChild(docLink);\n",
              "        }\n",
              "      </script>\n",
              "    </div>\n",
              "  </div>\n",
              "  "
            ]
          },
          "metadata": {},
          "execution_count": 15
        }
      ]
    },
    {
      "cell_type": "code",
      "source": [
        "y_values = machine_learning_df['y']\n",
        "y_quantile_95 = y_values.quantile(0.95)\n",
        "def binarize_y_values(y_values, y_quantile_95):\n",
        "    return (y_values > y_quantile_95).astype(int)\n",
        "for subgraph_data in subgraph_pyg_data_list:\n",
        "    subgraph_data.y = torch.tensor(binarize_y_values(subgraph_data.y.numpy(), y_quantile_95), dtype=torch.float)"
      ],
      "metadata": {
        "id": "OIepqUz2PZZv"
      },
      "execution_count": null,
      "outputs": []
    },
    {
      "cell_type": "code",
      "source": [
        "train_machine_learning_df['y'] = binarize_y_values(train_machine_learning_df['y'], y_quantile_95)\n",
        "test_machine_learning_df['y'] = binarize_y_values(test_machine_learning_df['y'], y_quantile_95)"
      ],
      "metadata": {
        "colab": {
          "base_uri": "https://localhost:8080/"
        },
        "id": "B3HLSvKn2yeN",
        "outputId": "58749b0b-02b5-4823-dcce-ae21bcc145ac"
      },
      "execution_count": null,
      "outputs": [
        {
          "output_type": "stream",
          "name": "stderr",
          "text": [
            "<ipython-input-19-5b57f66d9484>:1: SettingWithCopyWarning: \n",
            "A value is trying to be set on a copy of a slice from a DataFrame.\n",
            "Try using .loc[row_indexer,col_indexer] = value instead\n",
            "\n",
            "See the caveats in the documentation: https://pandas.pydata.org/pandas-docs/stable/user_guide/indexing.html#returning-a-view-versus-a-copy\n",
            "  train_machine_learning_df['y'] = binarize_y_values(train_machine_learning_df['y'], y_quantile_95)\n",
            "<ipython-input-19-5b57f66d9484>:2: SettingWithCopyWarning: \n",
            "A value is trying to be set on a copy of a slice from a DataFrame.\n",
            "Try using .loc[row_indexer,col_indexer] = value instead\n",
            "\n",
            "See the caveats in the documentation: https://pandas.pydata.org/pandas-docs/stable/user_guide/indexing.html#returning-a-view-versus-a-copy\n",
            "  test_machine_learning_df['y'] = binarize_y_values(test_machine_learning_df['y'], y_quantile_95)\n"
          ]
        }
      ]
    },
    {
      "cell_type": "code",
      "source": [
        "# Function to print 0 and 1 distribution\n",
        "def print_distribution(dataset_name, y_values):\n",
        "    distribution = pd.Series(y_values).value_counts(normalize=True)  \n",
        "    # Print the distribution\n",
        "    print(f\"{dataset_name} distribution:\")\n",
        "    print(distribution)\n",
        "train_y_values = torch.stack([data.y[0] for data in train_subgraph_pyg_data_list])\n",
        "test_y_values = torch.stack([data.y[0] for data in test_subgraph_pyg_data_list])\n",
        "print_distribution(\"Train subgraph_pyg_data_list\", pd.Series(train_y_values.numpy()))\n",
        "print_distribution(\"Test subgraph_pyg_data_list\", pd.Series(test_y_values.numpy()))"
      ],
      "metadata": {
        "colab": {
          "base_uri": "https://localhost:8080/"
        },
        "id": "RCBhJOXeVJMM",
        "outputId": "3841b3fa-1a62-41fe-e1a3-f8ba513be9c5"
      },
      "execution_count": null,
      "outputs": [
        {
          "output_type": "stream",
          "name": "stdout",
          "text": [
            "Train subgraph_pyg_data_list distribution:\n",
            "10.0     0.061351\n",
            "11.0     0.057060\n",
            "12.0     0.052390\n",
            "13.0     0.047950\n",
            "14.0     0.044077\n",
            "           ...   \n",
            "275.0    0.000013\n",
            "285.0    0.000013\n",
            "365.0    0.000013\n",
            "511.0    0.000013\n",
            "283.0    0.000013\n",
            "Length: 292, dtype: float64\n",
            "Test subgraph_pyg_data_list distribution:\n",
            "10.0     0.060837\n",
            "11.0     0.058677\n",
            "12.0     0.051660\n",
            "13.0     0.044696\n",
            "14.0     0.043347\n",
            "           ...   \n",
            "267.0    0.000054\n",
            "464.0    0.000054\n",
            "234.0    0.000054\n",
            "245.0    0.000054\n",
            "208.0    0.000054\n",
            "Length: 221, dtype: float64\n"
          ]
        }
      ]
    },
    {
      "cell_type": "code",
      "source": [
        "train_subgraph_pyg_data_list[0].y[0]"
      ],
      "metadata": {
        "colab": {
          "base_uri": "https://localhost:8080/"
        },
        "id": "7iczIcoE_EJ9",
        "outputId": "fae0c88f-8126-4284-b6d5-fa77da4aa161"
      },
      "execution_count": null,
      "outputs": [
        {
          "output_type": "execute_result",
          "data": {
            "text/plain": [
              "tensor(14.)"
            ]
          },
          "metadata": {},
          "execution_count": 27
        }
      ]
    },
    {
      "cell_type": "code",
      "source": [
        "def print_distribution(dataset_name, y_values):\n",
        "    # Get the first dimension of y_values\n",
        "    first_dimension_values = [y[0] for y in y_values]\n",
        "    \n",
        "    # Compute the distribution\n",
        "    distribution = pd.Series(first_dimension_values).value_counts(normalize=True)\n",
        "    \n",
        "    # Print the distribution\n",
        "    print(f\"{dataset_name} distribution:\")\n",
        "    print(distribution)\n",
        "print_distribution(\"Train machine_learning_df\", train_machine_learning_df['y'])\n",
        "print_distribution(\"Test machine_learning_df\", test_machine_learning_df['y'])"
      ],
      "metadata": {
        "colab": {
          "base_uri": "https://localhost:8080/"
        },
        "id": "M1rANYhn9jwl",
        "outputId": "07dbf54b-a154-4773-ce65-89685d839a79"
      },
      "execution_count": null,
      "outputs": [
        {
          "output_type": "stream",
          "name": "stdout",
          "text": [
            "Train machine_learning_df distribution:\n",
            "10     0.061351\n",
            "11     0.057060\n",
            "12     0.052390\n",
            "13     0.047950\n",
            "14     0.044077\n",
            "         ...   \n",
            "275    0.000013\n",
            "285    0.000013\n",
            "365    0.000013\n",
            "511    0.000013\n",
            "283    0.000013\n",
            "Length: 292, dtype: float64\n",
            "Test machine_learning_df distribution:\n",
            "10     0.060837\n",
            "11     0.058677\n",
            "12     0.051660\n",
            "13     0.044696\n",
            "14     0.043347\n",
            "         ...   \n",
            "267    0.000054\n",
            "464    0.000054\n",
            "234    0.000054\n",
            "245    0.000054\n",
            "208    0.000054\n",
            "Length: 221, dtype: float64\n"
          ]
        }
      ]
    },
    {
      "cell_type": "code",
      "source": [
        "# Save the data to a file\n",
        "with open('/content/drive/MyDrive/raw_train_test_split_data_full4dimension.pkl', 'wb') as f:\n",
        "    pickle.dump({\n",
        "        'train_subgraph_pyg_data_list': train_subgraph_pyg_data_list,\n",
        "        'test_subgraph_pyg_data_list': test_subgraph_pyg_data_list,\n",
        "        'train_machine_learning_df': train_machine_learning_df,\n",
        "        'test_machine_learning_df': test_machine_learning_df,\n",
        "    }, f)"
      ],
      "metadata": {
        "id": "CAMLBHM3Va0J"
      },
      "execution_count": null,
      "outputs": []
    }
  ]
}