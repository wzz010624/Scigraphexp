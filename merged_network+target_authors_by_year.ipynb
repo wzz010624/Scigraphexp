{
  "nbformat": 4,
  "nbformat_minor": 0,
  "metadata": {
    "colab": {
      "provenance": [],
      "machine_shape": "hm",
      "include_colab_link": true
    },
    "kernelspec": {
      "name": "python3",
      "display_name": "Python 3"
    },
    "language_info": {
      "name": "python"
    },
    "gpuClass": "standard"
  },
  "cells": [
    {
      "cell_type": "markdown",
      "metadata": {
        "id": "view-in-github",
        "colab_type": "text"
      },
      "source": [
        "<a href=\"https://colab.research.google.com/github/wzz010624/Scigraphexp/blob/main/merged_network%2Btarget_authors_by_year.ipynb\" target=\"_parent\"><img src=\"https://colab.research.google.com/assets/colab-badge.svg\" alt=\"Open In Colab\"/></a>"
      ]
    },
    {
      "cell_type": "code",
      "execution_count": null,
      "metadata": {
        "id": "DNiXcIAIcLK7",
        "colab": {
          "base_uri": "https://localhost:8080/"
        },
        "outputId": "419357ce-91cd-4689-e77b-96ad9efeb4bc"
      },
      "outputs": [
        {
          "output_type": "stream",
          "name": "stdout",
          "text": [
            "Mounted at /content/drive\n"
          ]
        }
      ],
      "source": [
        "from google.colab import drive\n",
        "drive.mount('/content/drive')"
      ]
    },
    {
      "cell_type": "code",
      "source": [
        "import pickle\n",
        "with open('/content/drive/MyDrive/GNNdataset/coauthor_dict.pickle', 'rb') as f:\n",
        "    coauthor_dict = pickle.load(f)"
      ],
      "metadata": {
        "id": "rqlDdtlPcMq-"
      },
      "execution_count": null,
      "outputs": []
    },
    {
      "cell_type": "code",
      "source": [
        "import pickle\n",
        "with open('/content/drive/MyDrive/GNNdataset/author_publication_sequence.pickle', 'rb') as f:\n",
        "    author_publication_sequence = pickle.load(f)"
      ],
      "metadata": {
        "id": "xpsuGeEocNu_"
      },
      "execution_count": null,
      "outputs": []
    },
    {
      "cell_type": "code",
      "source": [
        "import pickle\n",
        "#coauthor_dict[author_id][coauthor_id][paper_year] = [paper_id]\n",
        "# 保存为二进制文件\n",
        "with open('/content/drive/MyDrive/GNNdataset/5spancoauthor_networks.pickle', 'rb') as f:\n",
        "    coauthor_networks = pickle.load(f)"
      ],
      "metadata": {
        "id": "2qkqLOZIcOvk"
      },
      "execution_count": null,
      "outputs": []
    },
    {
      "cell_type": "code",
      "source": [
        "for k,v in coauthor_networks.items():\n",
        "  print(k,v)"
      ],
      "metadata": {
        "colab": {
          "base_uri": "https://localhost:8080/"
        },
        "id": "AdfYjPCRHHAo",
        "outputId": "991ea86a-96c3-4b72-d88a-9104fda97026"
      },
      "execution_count": null,
      "outputs": [
        {
          "output_type": "stream",
          "name": "stdout",
          "text": [
            "1971 Graph with 4322 nodes and 3968 edges\n",
            "1972 Graph with 5024 nodes and 4600 edges\n",
            "1973 Graph with 6054 nodes and 5516 edges\n",
            "1974 Graph with 7745 nodes and 7391 edges\n",
            "1975 Graph with 9295 nodes and 9026 edges\n",
            "1976 Graph with 10820 nodes and 10903 edges\n",
            "1977 Graph with 12501 nodes and 12876 edges\n",
            "1978 Graph with 13680 nodes and 14555 edges\n",
            "1979 Graph with 14623 nodes and 15565 edges\n",
            "1980 Graph with 16011 nodes and 17491 edges\n",
            "1981 Graph with 17699 nodes and 19992 edges\n",
            "1982 Graph with 19892 nodes and 23013 edges\n",
            "1983 Graph with 22770 nodes and 26903 edges\n",
            "1984 Graph with 26337 nodes and 31726 edges\n",
            "1985 Graph with 30213 nodes and 36844 edges\n",
            "1986 Graph with 35453 nodes and 43363 edges\n",
            "1987 Graph with 41186 nodes and 50741 edges\n",
            "1988 Graph with 48840 nodes and 61232 edges\n",
            "1989 Graph with 55967 nodes and 71999 edges\n",
            "1990 Graph with 65868 nodes and 86682 edges\n",
            "1991 Graph with 76743 nodes and 104392 edges\n",
            "1992 Graph with 88243 nodes and 125173 edges\n",
            "1993 Graph with 101214 nodes and 149796 edges\n",
            "1994 Graph with 117904 nodes and 182422 edges\n",
            "1995 Graph with 135100 nodes and 218405 edges\n",
            "1996 Graph with 153234 nodes and 256196 edges\n",
            "1997 Graph with 172475 nodes and 300292 edges\n",
            "1998 Graph with 197196 nodes and 357993 edges\n",
            "1999 Graph with 217708 nodes and 411403 edges\n",
            "2000 Graph with 245084 nodes and 480704 edges\n",
            "2001 Graph with 275719 nodes and 560008 edges\n",
            "2002 Graph with 314137 nodes and 664459 edges\n",
            "2003 Graph with 355387 nodes and 793653 edges\n",
            "2004 Graph with 410324 nodes and 963045 edges\n",
            "2005 Graph with 474112 nodes and 1172472 edges\n",
            "2006 Graph with 549912 nodes and 1429287 edges\n",
            "2007 Graph with 624097 nodes and 1682143 edges\n",
            "2008 Graph with 700763 nodes and 1952013 edges\n",
            "2009 Graph with 782224 nodes and 2229902 edges\n",
            "2010 Graph with 853423 nodes and 2487799 edges\n",
            "2011 Graph with 923023 nodes and 2755520 edges\n"
          ]
        }
      ]
    },
    {
      "cell_type": "code",
      "source": [
        "import pandas as pd\n",
        "import networkx as nx\n",
        "\n",
        "# 创建一个空的 DataFrame\n",
        "network_stats = pd.DataFrame(columns=['Year', 'Nodes', 'Edges', 'Clustering coefficient', 'Density'])\n",
        "\n",
        "# 计算每个网络的统计量，并将它们添加到 DataFrame 中\n",
        "for year, graph in coauthor_networks.items():\n",
        "    print(year)\n",
        "    # 获取网络的基本信息\n",
        "    nodes = graph.number_of_nodes()\n",
        "    edges = graph.number_of_edges()\n",
        "\n",
        "    # 计算其他统计量\n",
        "    clustering_coefficient = nx.average_clustering(graph)\n",
        "    density = nx.density(graph)\n",
        "    degree_centrality = pd.Series(nx.degree_centrality(graph))\n",
        "\n",
        "    # 将所有统计量添加到 DataFrame 中\n",
        "    network_stats = network_stats.append({\n",
        "        'Year': year,\n",
        "        'Nodes': nodes,\n",
        "        'Edges': edges,\n",
        "        'Clustering coefficient': clustering_coefficient,\n",
        "        'Density': density,\n",
        "    }, ignore_index=True)\n",
        "\n",
        "# 将 DataFrame 存储到 CSV 文件中\n",
        "network_stats.to_csv('network_stats.csv', index=False)"
      ],
      "metadata": {
        "colab": {
          "base_uri": "https://localhost:8080/"
        },
        "id": "r51XMcqCIUvB",
        "outputId": "0802a8da-ea50-4605-8869-b4d460f60f6e"
      },
      "execution_count": null,
      "outputs": [
        {
          "output_type": "stream",
          "name": "stdout",
          "text": [
            "1971\n",
            "1972\n",
            "1973\n",
            "1974\n",
            "1975\n"
          ]
        },
        {
          "output_type": "stream",
          "name": "stderr",
          "text": [
            "<ipython-input-12-53ef0d72287c>:20: FutureWarning: The frame.append method is deprecated and will be removed from pandas in a future version. Use pandas.concat instead.\n",
            "  network_stats = network_stats.append({\n",
            "<ipython-input-12-53ef0d72287c>:20: FutureWarning: The frame.append method is deprecated and will be removed from pandas in a future version. Use pandas.concat instead.\n",
            "  network_stats = network_stats.append({\n",
            "<ipython-input-12-53ef0d72287c>:20: FutureWarning: The frame.append method is deprecated and will be removed from pandas in a future version. Use pandas.concat instead.\n",
            "  network_stats = network_stats.append({\n",
            "<ipython-input-12-53ef0d72287c>:20: FutureWarning: The frame.append method is deprecated and will be removed from pandas in a future version. Use pandas.concat instead.\n",
            "  network_stats = network_stats.append({\n",
            "<ipython-input-12-53ef0d72287c>:20: FutureWarning: The frame.append method is deprecated and will be removed from pandas in a future version. Use pandas.concat instead.\n",
            "  network_stats = network_stats.append({\n",
            "<ipython-input-12-53ef0d72287c>:20: FutureWarning: The frame.append method is deprecated and will be removed from pandas in a future version. Use pandas.concat instead.\n",
            "  network_stats = network_stats.append({\n"
          ]
        },
        {
          "output_type": "stream",
          "name": "stdout",
          "text": [
            "1976\n",
            "1977\n"
          ]
        },
        {
          "output_type": "stream",
          "name": "stderr",
          "text": [
            "<ipython-input-12-53ef0d72287c>:20: FutureWarning: The frame.append method is deprecated and will be removed from pandas in a future version. Use pandas.concat instead.\n",
            "  network_stats = network_stats.append({\n",
            "<ipython-input-12-53ef0d72287c>:20: FutureWarning: The frame.append method is deprecated and will be removed from pandas in a future version. Use pandas.concat instead.\n",
            "  network_stats = network_stats.append({\n"
          ]
        },
        {
          "output_type": "stream",
          "name": "stdout",
          "text": [
            "1978\n",
            "1979\n"
          ]
        },
        {
          "output_type": "stream",
          "name": "stderr",
          "text": [
            "<ipython-input-12-53ef0d72287c>:20: FutureWarning: The frame.append method is deprecated and will be removed from pandas in a future version. Use pandas.concat instead.\n",
            "  network_stats = network_stats.append({\n",
            "<ipython-input-12-53ef0d72287c>:20: FutureWarning: The frame.append method is deprecated and will be removed from pandas in a future version. Use pandas.concat instead.\n",
            "  network_stats = network_stats.append({\n"
          ]
        },
        {
          "output_type": "stream",
          "name": "stdout",
          "text": [
            "1980\n",
            "1981\n"
          ]
        },
        {
          "output_type": "stream",
          "name": "stderr",
          "text": [
            "<ipython-input-12-53ef0d72287c>:20: FutureWarning: The frame.append method is deprecated and will be removed from pandas in a future version. Use pandas.concat instead.\n",
            "  network_stats = network_stats.append({\n",
            "<ipython-input-12-53ef0d72287c>:20: FutureWarning: The frame.append method is deprecated and will be removed from pandas in a future version. Use pandas.concat instead.\n",
            "  network_stats = network_stats.append({\n"
          ]
        },
        {
          "output_type": "stream",
          "name": "stdout",
          "text": [
            "1982\n",
            "1983\n"
          ]
        },
        {
          "output_type": "stream",
          "name": "stderr",
          "text": [
            "<ipython-input-12-53ef0d72287c>:20: FutureWarning: The frame.append method is deprecated and will be removed from pandas in a future version. Use pandas.concat instead.\n",
            "  network_stats = network_stats.append({\n"
          ]
        },
        {
          "output_type": "stream",
          "name": "stdout",
          "text": [
            "1984\n"
          ]
        },
        {
          "output_type": "stream",
          "name": "stderr",
          "text": [
            "<ipython-input-12-53ef0d72287c>:20: FutureWarning: The frame.append method is deprecated and will be removed from pandas in a future version. Use pandas.concat instead.\n",
            "  network_stats = network_stats.append({\n"
          ]
        },
        {
          "output_type": "stream",
          "name": "stdout",
          "text": [
            "1985\n"
          ]
        },
        {
          "output_type": "stream",
          "name": "stderr",
          "text": [
            "<ipython-input-12-53ef0d72287c>:20: FutureWarning: The frame.append method is deprecated and will be removed from pandas in a future version. Use pandas.concat instead.\n",
            "  network_stats = network_stats.append({\n"
          ]
        },
        {
          "output_type": "stream",
          "name": "stdout",
          "text": [
            "1986\n"
          ]
        },
        {
          "output_type": "stream",
          "name": "stderr",
          "text": [
            "<ipython-input-12-53ef0d72287c>:20: FutureWarning: The frame.append method is deprecated and will be removed from pandas in a future version. Use pandas.concat instead.\n",
            "  network_stats = network_stats.append({\n"
          ]
        },
        {
          "output_type": "stream",
          "name": "stdout",
          "text": [
            "1987\n"
          ]
        },
        {
          "output_type": "stream",
          "name": "stderr",
          "text": [
            "<ipython-input-12-53ef0d72287c>:20: FutureWarning: The frame.append method is deprecated and will be removed from pandas in a future version. Use pandas.concat instead.\n",
            "  network_stats = network_stats.append({\n"
          ]
        },
        {
          "output_type": "stream",
          "name": "stdout",
          "text": [
            "1988\n"
          ]
        },
        {
          "output_type": "stream",
          "name": "stderr",
          "text": [
            "<ipython-input-12-53ef0d72287c>:20: FutureWarning: The frame.append method is deprecated and will be removed from pandas in a future version. Use pandas.concat instead.\n",
            "  network_stats = network_stats.append({\n"
          ]
        },
        {
          "output_type": "stream",
          "name": "stdout",
          "text": [
            "1989\n"
          ]
        },
        {
          "output_type": "stream",
          "name": "stderr",
          "text": [
            "<ipython-input-12-53ef0d72287c>:20: FutureWarning: The frame.append method is deprecated and will be removed from pandas in a future version. Use pandas.concat instead.\n",
            "  network_stats = network_stats.append({\n"
          ]
        },
        {
          "output_type": "stream",
          "name": "stdout",
          "text": [
            "1990\n"
          ]
        },
        {
          "output_type": "stream",
          "name": "stderr",
          "text": [
            "<ipython-input-12-53ef0d72287c>:20: FutureWarning: The frame.append method is deprecated and will be removed from pandas in a future version. Use pandas.concat instead.\n",
            "  network_stats = network_stats.append({\n"
          ]
        },
        {
          "output_type": "stream",
          "name": "stdout",
          "text": [
            "1991\n"
          ]
        },
        {
          "output_type": "stream",
          "name": "stderr",
          "text": [
            "<ipython-input-12-53ef0d72287c>:20: FutureWarning: The frame.append method is deprecated and will be removed from pandas in a future version. Use pandas.concat instead.\n",
            "  network_stats = network_stats.append({\n"
          ]
        },
        {
          "output_type": "stream",
          "name": "stdout",
          "text": [
            "1992\n"
          ]
        },
        {
          "output_type": "stream",
          "name": "stderr",
          "text": [
            "<ipython-input-12-53ef0d72287c>:20: FutureWarning: The frame.append method is deprecated and will be removed from pandas in a future version. Use pandas.concat instead.\n",
            "  network_stats = network_stats.append({\n"
          ]
        },
        {
          "output_type": "stream",
          "name": "stdout",
          "text": [
            "1993\n"
          ]
        },
        {
          "output_type": "stream",
          "name": "stderr",
          "text": [
            "<ipython-input-12-53ef0d72287c>:20: FutureWarning: The frame.append method is deprecated and will be removed from pandas in a future version. Use pandas.concat instead.\n",
            "  network_stats = network_stats.append({\n"
          ]
        },
        {
          "output_type": "stream",
          "name": "stdout",
          "text": [
            "1994\n"
          ]
        },
        {
          "output_type": "stream",
          "name": "stderr",
          "text": [
            "<ipython-input-12-53ef0d72287c>:20: FutureWarning: The frame.append method is deprecated and will be removed from pandas in a future version. Use pandas.concat instead.\n",
            "  network_stats = network_stats.append({\n"
          ]
        },
        {
          "output_type": "stream",
          "name": "stdout",
          "text": [
            "1995\n"
          ]
        },
        {
          "output_type": "stream",
          "name": "stderr",
          "text": [
            "<ipython-input-12-53ef0d72287c>:20: FutureWarning: The frame.append method is deprecated and will be removed from pandas in a future version. Use pandas.concat instead.\n",
            "  network_stats = network_stats.append({\n"
          ]
        },
        {
          "output_type": "stream",
          "name": "stdout",
          "text": [
            "1996\n"
          ]
        },
        {
          "output_type": "stream",
          "name": "stderr",
          "text": [
            "<ipython-input-12-53ef0d72287c>:20: FutureWarning: The frame.append method is deprecated and will be removed from pandas in a future version. Use pandas.concat instead.\n",
            "  network_stats = network_stats.append({\n"
          ]
        },
        {
          "output_type": "stream",
          "name": "stdout",
          "text": [
            "1997\n"
          ]
        },
        {
          "output_type": "stream",
          "name": "stderr",
          "text": [
            "<ipython-input-12-53ef0d72287c>:20: FutureWarning: The frame.append method is deprecated and will be removed from pandas in a future version. Use pandas.concat instead.\n",
            "  network_stats = network_stats.append({\n"
          ]
        },
        {
          "output_type": "stream",
          "name": "stdout",
          "text": [
            "1998\n"
          ]
        },
        {
          "output_type": "stream",
          "name": "stderr",
          "text": [
            "<ipython-input-12-53ef0d72287c>:20: FutureWarning: The frame.append method is deprecated and will be removed from pandas in a future version. Use pandas.concat instead.\n",
            "  network_stats = network_stats.append({\n"
          ]
        },
        {
          "output_type": "stream",
          "name": "stdout",
          "text": [
            "1999\n"
          ]
        },
        {
          "output_type": "stream",
          "name": "stderr",
          "text": [
            "<ipython-input-12-53ef0d72287c>:20: FutureWarning: The frame.append method is deprecated and will be removed from pandas in a future version. Use pandas.concat instead.\n",
            "  network_stats = network_stats.append({\n"
          ]
        },
        {
          "output_type": "stream",
          "name": "stdout",
          "text": [
            "2000\n"
          ]
        },
        {
          "output_type": "stream",
          "name": "stderr",
          "text": [
            "<ipython-input-12-53ef0d72287c>:20: FutureWarning: The frame.append method is deprecated and will be removed from pandas in a future version. Use pandas.concat instead.\n",
            "  network_stats = network_stats.append({\n"
          ]
        },
        {
          "output_type": "stream",
          "name": "stdout",
          "text": [
            "2001\n"
          ]
        },
        {
          "output_type": "stream",
          "name": "stderr",
          "text": [
            "<ipython-input-12-53ef0d72287c>:20: FutureWarning: The frame.append method is deprecated and will be removed from pandas in a future version. Use pandas.concat instead.\n",
            "  network_stats = network_stats.append({\n"
          ]
        },
        {
          "output_type": "stream",
          "name": "stdout",
          "text": [
            "2002\n"
          ]
        },
        {
          "output_type": "stream",
          "name": "stderr",
          "text": [
            "<ipython-input-12-53ef0d72287c>:20: FutureWarning: The frame.append method is deprecated and will be removed from pandas in a future version. Use pandas.concat instead.\n",
            "  network_stats = network_stats.append({\n"
          ]
        },
        {
          "output_type": "stream",
          "name": "stdout",
          "text": [
            "2003\n"
          ]
        },
        {
          "output_type": "stream",
          "name": "stderr",
          "text": [
            "<ipython-input-12-53ef0d72287c>:20: FutureWarning: The frame.append method is deprecated and will be removed from pandas in a future version. Use pandas.concat instead.\n",
            "  network_stats = network_stats.append({\n"
          ]
        },
        {
          "output_type": "stream",
          "name": "stdout",
          "text": [
            "2004\n"
          ]
        },
        {
          "output_type": "stream",
          "name": "stderr",
          "text": [
            "<ipython-input-12-53ef0d72287c>:20: FutureWarning: The frame.append method is deprecated and will be removed from pandas in a future version. Use pandas.concat instead.\n",
            "  network_stats = network_stats.append({\n"
          ]
        },
        {
          "output_type": "stream",
          "name": "stdout",
          "text": [
            "2005\n"
          ]
        },
        {
          "output_type": "stream",
          "name": "stderr",
          "text": [
            "<ipython-input-12-53ef0d72287c>:20: FutureWarning: The frame.append method is deprecated and will be removed from pandas in a future version. Use pandas.concat instead.\n",
            "  network_stats = network_stats.append({\n"
          ]
        },
        {
          "output_type": "stream",
          "name": "stdout",
          "text": [
            "2006\n"
          ]
        },
        {
          "output_type": "stream",
          "name": "stderr",
          "text": [
            "<ipython-input-12-53ef0d72287c>:20: FutureWarning: The frame.append method is deprecated and will be removed from pandas in a future version. Use pandas.concat instead.\n",
            "  network_stats = network_stats.append({\n"
          ]
        },
        {
          "output_type": "stream",
          "name": "stdout",
          "text": [
            "2007\n"
          ]
        },
        {
          "output_type": "stream",
          "name": "stderr",
          "text": [
            "<ipython-input-12-53ef0d72287c>:20: FutureWarning: The frame.append method is deprecated and will be removed from pandas in a future version. Use pandas.concat instead.\n",
            "  network_stats = network_stats.append({\n"
          ]
        },
        {
          "output_type": "stream",
          "name": "stdout",
          "text": [
            "2008\n"
          ]
        },
        {
          "output_type": "stream",
          "name": "stderr",
          "text": [
            "<ipython-input-12-53ef0d72287c>:20: FutureWarning: The frame.append method is deprecated and will be removed from pandas in a future version. Use pandas.concat instead.\n",
            "  network_stats = network_stats.append({\n"
          ]
        },
        {
          "output_type": "stream",
          "name": "stdout",
          "text": [
            "2009\n"
          ]
        },
        {
          "output_type": "stream",
          "name": "stderr",
          "text": [
            "<ipython-input-12-53ef0d72287c>:20: FutureWarning: The frame.append method is deprecated and will be removed from pandas in a future version. Use pandas.concat instead.\n",
            "  network_stats = network_stats.append({\n"
          ]
        },
        {
          "output_type": "stream",
          "name": "stdout",
          "text": [
            "2010\n"
          ]
        },
        {
          "output_type": "stream",
          "name": "stderr",
          "text": [
            "<ipython-input-12-53ef0d72287c>:20: FutureWarning: The frame.append method is deprecated and will be removed from pandas in a future version. Use pandas.concat instead.\n",
            "  network_stats = network_stats.append({\n"
          ]
        },
        {
          "output_type": "stream",
          "name": "stdout",
          "text": [
            "2011\n"
          ]
        },
        {
          "output_type": "stream",
          "name": "stderr",
          "text": [
            "<ipython-input-12-53ef0d72287c>:20: FutureWarning: The frame.append method is deprecated and will be removed from pandas in a future version. Use pandas.concat instead.\n",
            "  network_stats = network_stats.append({\n"
          ]
        }
      ]
    },
    {
      "cell_type": "code",
      "source": [
        "status_df.to_csv('trim_network_stats.csv', index=False)"
      ],
      "metadata": {
        "id": "uaNzlMWeWJse"
      },
      "execution_count": null,
      "outputs": []
    },
    {
      "cell_type": "code",
      "source": [
        "def calculate_coauthors(author_id, current_year):\n",
        "    unique_coauthors = set()\n",
        "    for coauthor_id in coauthor_dict[author_id]:\n",
        "        for year, paper_ids in coauthor_dict[author_id][coauthor_id].items():\n",
        "            if year <= current_year:\n",
        "                unique_coauthors.add(coauthor_id)\n",
        "\n",
        "    total_coauthors = len(unique_coauthors)\n",
        "    return total_coauthors"
      ],
      "metadata": {
        "id": "JAGllyEwcP0l"
      },
      "execution_count": null,
      "outputs": []
    },
    {
      "cell_type": "code",
      "source": [
        "import networkx as nx\n",
        "import numpy as np\n",
        "\n",
        "def calculate_network_stats(network):\n",
        "    num_nodes = network.number_of_nodes()\n",
        "    num_edges = network.number_of_edges()\n",
        "    clustering_coefficient = nx.average_clustering(network)\n",
        "    density = nx.density(network)\n",
        "\n",
        "    network_stats = {'Nodes': num_nodes,\n",
        "                     'Edges': num_edges,\n",
        "                     'Clustering coefficient': clustering_coefficient,\n",
        "                     'Density': density}\n",
        "    \n",
        "    return network_stats"
      ],
      "metadata": {
        "id": "nUoF-jiyTPwP"
      },
      "execution_count": null,
      "outputs": []
    },
    {
      "cell_type": "code",
      "source": [
        "def find_target_authors(author_publication_sequence, career_age_5):\n",
        "    target_authors = []\n",
        "    for author_id, pub_seq in author_publication_sequence.items():\n",
        "        start_year = min(pub_seq.keys())\n",
        "        if career_age_5 == start_year + 4:\n",
        "            end_year = max(pub_seq.keys())\n",
        "            if end_year - start_year >= 14:\n",
        "                start_year_15 = start_year + 14\n",
        "                start_year_5 = start_year + 4\n",
        "                pub_count_15 = sum([pub_seq.get(year, 0) for year in range(start_year, start_year_15 + 1)])\n",
        "                pub_count_5 = sum([pub_seq.get(year, 0) for year in range(start_year, start_year_5 + 1)])\n",
        "                if pub_count_15 >= 10 and pub_count_5>=3:\n",
        "                    if calculate_coauthors(author_id,career_age_5)!=0:\n",
        "                      target_authors.append(author_id)\n",
        "    return target_authors\n",
        "\n",
        "import networkx as nx\n",
        "import gc\n",
        "import pandas as pd\n",
        "import networkx as nx\n",
        "\n",
        "def extract_target_and_neighbors(network, target_nodes):\n",
        "    nodes_to_keep = set(target_nodes)\n",
        "    for node in target_nodes:\n",
        "        neighbors = list(network.neighbors(node))\n",
        "        nodes_to_keep.update(neighbors)\n",
        "    \n",
        "    subgraph = network.subgraph(nodes_to_keep)\n",
        "    return subgraph\n",
        "\n",
        "def merge_and_trim_networks(coauthor_networks, author_publication_sequence):\n",
        "    merged_network = nx.Graph()\n",
        "    target_authors_by_year = {}\n",
        "    df = pd.DataFrame(columns=['Year', 'Target_Nodes', 'Nodes', 'Edges', 'Clustering coefficient', 'Density'])\n",
        "\n",
        "    for year, network in coauthor_networks.items():\n",
        "        career_age_5 = year\n",
        "        target_authors = find_target_authors(author_publication_sequence, career_age_5)\n",
        "        target_authors_by_year[year] = target_authors\n",
        "\n",
        "        # 提取目标节点及其一阶邻居的子图\n",
        "        subgraph = extract_target_and_neighbors(network, target_authors)\n",
        "\n",
        "        # 计算子图的节点数、边数、聚集系数和密度\n",
        "        network_stats = calculate_network_stats(subgraph)\n",
        "\n",
        "        # 添加年份和目标节点的信息\n",
        "        network_stats.update({'Year': year, 'Target_Nodes': len(target_authors)})\n",
        "\n",
        "        # 将结果添加到DataFrame中\n",
        "        df = df.append(network_stats, ignore_index=True)\n",
        "\n",
        "        # 为子图中的节点和边添加新的唯一标识符\n",
        "        new_node_ids = {node: f\"{node}_{year}\" for node in subgraph.nodes()}\n",
        "        subgraph = nx.relabel_nodes(subgraph, new_node_ids)\n",
        "        print(f\"Year: {year}, Target_Nodes:  {len(target_authors)}, Nodes: {len(subgraph.nodes)}, Edges: {len(subgraph.edges)}\")\n",
        "        # 将子图中的节点和边添加到 merged_network 中\n",
        "        merged_network.add_nodes_from(subgraph.nodes(data=True))\n",
        "        merged_network.add_edges_from(subgraph.edges(data=True))\n",
        "\n",
        "    return merged_network, target_authors_by_year, df\n",
        "\n",
        "# 使用更新后的函数\n",
        "merged_network, target_authors_by_year, status_df = merge_and_trim_networks(coauthor_networks, author_publication_sequence)"
      ],
      "metadata": {
        "id": "1GuGAA5UcRSX",
        "colab": {
          "base_uri": "https://localhost:8080/"
        },
        "outputId": "ffa270e2-a50e-46c4-c713-8ca5f043063f"
      },
      "execution_count": null,
      "outputs": [
        {
          "output_type": "stream",
          "name": "stderr",
          "text": [
            "<ipython-input-10-4182c8b53073>:51: FutureWarning: The frame.append method is deprecated and will be removed from pandas in a future version. Use pandas.concat instead.\n",
            "  df = df.append(network_stats, ignore_index=True)\n"
          ]
        },
        {
          "output_type": "stream",
          "name": "stdout",
          "text": [
            "Year: 1971, Target_Nodes:  21, Nodes: 88, Edges: 103\n"
          ]
        },
        {
          "output_type": "stream",
          "name": "stderr",
          "text": [
            "<ipython-input-10-4182c8b53073>:51: FutureWarning: The frame.append method is deprecated and will be removed from pandas in a future version. Use pandas.concat instead.\n",
            "  df = df.append(network_stats, ignore_index=True)\n"
          ]
        },
        {
          "output_type": "stream",
          "name": "stdout",
          "text": [
            "Year: 1972, Target_Nodes:  33, Nodes: 141, Edges: 181\n"
          ]
        },
        {
          "output_type": "stream",
          "name": "stderr",
          "text": [
            "<ipython-input-10-4182c8b53073>:51: FutureWarning: The frame.append method is deprecated and will be removed from pandas in a future version. Use pandas.concat instead.\n",
            "  df = df.append(network_stats, ignore_index=True)\n"
          ]
        },
        {
          "output_type": "stream",
          "name": "stdout",
          "text": [
            "Year: 1973, Target_Nodes:  43, Nodes: 175, Edges: 196\n"
          ]
        },
        {
          "output_type": "stream",
          "name": "stderr",
          "text": [
            "<ipython-input-10-4182c8b53073>:51: FutureWarning: The frame.append method is deprecated and will be removed from pandas in a future version. Use pandas.concat instead.\n",
            "  df = df.append(network_stats, ignore_index=True)\n"
          ]
        },
        {
          "output_type": "stream",
          "name": "stdout",
          "text": [
            "Year: 1974, Target_Nodes:  38, Nodes: 153, Edges: 186\n"
          ]
        },
        {
          "output_type": "stream",
          "name": "stderr",
          "text": [
            "<ipython-input-10-4182c8b53073>:51: FutureWarning: The frame.append method is deprecated and will be removed from pandas in a future version. Use pandas.concat instead.\n",
            "  df = df.append(network_stats, ignore_index=True)\n"
          ]
        },
        {
          "output_type": "stream",
          "name": "stdout",
          "text": [
            "Year: 1975, Target_Nodes:  62, Nodes: 299, Edges: 422\n"
          ]
        },
        {
          "output_type": "stream",
          "name": "stderr",
          "text": [
            "<ipython-input-10-4182c8b53073>:51: FutureWarning: The frame.append method is deprecated and will be removed from pandas in a future version. Use pandas.concat instead.\n",
            "  df = df.append(network_stats, ignore_index=True)\n"
          ]
        },
        {
          "output_type": "stream",
          "name": "stdout",
          "text": [
            "Year: 1976, Target_Nodes:  81, Nodes: 370, Edges: 519\n"
          ]
        },
        {
          "output_type": "stream",
          "name": "stderr",
          "text": [
            "<ipython-input-10-4182c8b53073>:51: FutureWarning: The frame.append method is deprecated and will be removed from pandas in a future version. Use pandas.concat instead.\n",
            "  df = df.append(network_stats, ignore_index=True)\n"
          ]
        },
        {
          "output_type": "stream",
          "name": "stdout",
          "text": [
            "Year: 1977, Target_Nodes:  117, Nodes: 581, Edges: 895\n"
          ]
        },
        {
          "output_type": "stream",
          "name": "stderr",
          "text": [
            "<ipython-input-10-4182c8b53073>:51: FutureWarning: The frame.append method is deprecated and will be removed from pandas in a future version. Use pandas.concat instead.\n",
            "  df = df.append(network_stats, ignore_index=True)\n"
          ]
        },
        {
          "output_type": "stream",
          "name": "stdout",
          "text": [
            "Year: 1978, Target_Nodes:  128, Nodes: 639, Edges: 1026\n"
          ]
        },
        {
          "output_type": "stream",
          "name": "stderr",
          "text": [
            "<ipython-input-10-4182c8b53073>:51: FutureWarning: The frame.append method is deprecated and will be removed from pandas in a future version. Use pandas.concat instead.\n",
            "  df = df.append(network_stats, ignore_index=True)\n"
          ]
        },
        {
          "output_type": "stream",
          "name": "stdout",
          "text": [
            "Year: 1979, Target_Nodes:  112, Nodes: 495, Edges: 717\n"
          ]
        },
        {
          "output_type": "stream",
          "name": "stderr",
          "text": [
            "<ipython-input-10-4182c8b53073>:51: FutureWarning: The frame.append method is deprecated and will be removed from pandas in a future version. Use pandas.concat instead.\n",
            "  df = df.append(network_stats, ignore_index=True)\n"
          ]
        },
        {
          "output_type": "stream",
          "name": "stdout",
          "text": [
            "Year: 1980, Target_Nodes:  146, Nodes: 659, Edges: 925\n"
          ]
        },
        {
          "output_type": "stream",
          "name": "stderr",
          "text": [
            "<ipython-input-10-4182c8b53073>:51: FutureWarning: The frame.append method is deprecated and will be removed from pandas in a future version. Use pandas.concat instead.\n",
            "  df = df.append(network_stats, ignore_index=True)\n"
          ]
        },
        {
          "output_type": "stream",
          "name": "stdout",
          "text": [
            "Year: 1981, Target_Nodes:  172, Nodes: 812, Edges: 1145\n"
          ]
        },
        {
          "output_type": "stream",
          "name": "stderr",
          "text": [
            "<ipython-input-10-4182c8b53073>:51: FutureWarning: The frame.append method is deprecated and will be removed from pandas in a future version. Use pandas.concat instead.\n",
            "  df = df.append(network_stats, ignore_index=True)\n"
          ]
        },
        {
          "output_type": "stream",
          "name": "stdout",
          "text": [
            "Year: 1982, Target_Nodes:  135, Nodes: 694, Edges: 1098\n"
          ]
        },
        {
          "output_type": "stream",
          "name": "stderr",
          "text": [
            "<ipython-input-10-4182c8b53073>:51: FutureWarning: The frame.append method is deprecated and will be removed from pandas in a future version. Use pandas.concat instead.\n",
            "  df = df.append(network_stats, ignore_index=True)\n"
          ]
        },
        {
          "output_type": "stream",
          "name": "stdout",
          "text": [
            "Year: 1983, Target_Nodes:  180, Nodes: 865, Edges: 1295\n"
          ]
        },
        {
          "output_type": "stream",
          "name": "stderr",
          "text": [
            "<ipython-input-10-4182c8b53073>:51: FutureWarning: The frame.append method is deprecated and will be removed from pandas in a future version. Use pandas.concat instead.\n",
            "  df = df.append(network_stats, ignore_index=True)\n"
          ]
        },
        {
          "output_type": "stream",
          "name": "stdout",
          "text": [
            "Year: 1984, Target_Nodes:  201, Nodes: 933, Edges: 1547\n"
          ]
        },
        {
          "output_type": "stream",
          "name": "stderr",
          "text": [
            "<ipython-input-10-4182c8b53073>:51: FutureWarning: The frame.append method is deprecated and will be removed from pandas in a future version. Use pandas.concat instead.\n",
            "  df = df.append(network_stats, ignore_index=True)\n"
          ]
        },
        {
          "output_type": "stream",
          "name": "stdout",
          "text": [
            "Year: 1985, Target_Nodes:  256, Nodes: 1293, Edges: 2158\n"
          ]
        },
        {
          "output_type": "stream",
          "name": "stderr",
          "text": [
            "<ipython-input-10-4182c8b53073>:51: FutureWarning: The frame.append method is deprecated and will be removed from pandas in a future version. Use pandas.concat instead.\n",
            "  df = df.append(network_stats, ignore_index=True)\n"
          ]
        },
        {
          "output_type": "stream",
          "name": "stdout",
          "text": [
            "Year: 1986, Target_Nodes:  331, Nodes: 1709, Edges: 2928\n"
          ]
        },
        {
          "output_type": "stream",
          "name": "stderr",
          "text": [
            "<ipython-input-10-4182c8b53073>:51: FutureWarning: The frame.append method is deprecated and will be removed from pandas in a future version. Use pandas.concat instead.\n",
            "  df = df.append(network_stats, ignore_index=True)\n"
          ]
        },
        {
          "output_type": "stream",
          "name": "stdout",
          "text": [
            "Year: 1987, Target_Nodes:  365, Nodes: 1976, Edges: 3323\n"
          ]
        },
        {
          "output_type": "stream",
          "name": "stderr",
          "text": [
            "<ipython-input-10-4182c8b53073>:51: FutureWarning: The frame.append method is deprecated and will be removed from pandas in a future version. Use pandas.concat instead.\n",
            "  df = df.append(network_stats, ignore_index=True)\n"
          ]
        },
        {
          "output_type": "stream",
          "name": "stdout",
          "text": [
            "Year: 1988, Target_Nodes:  402, Nodes: 2220, Edges: 3748\n"
          ]
        },
        {
          "output_type": "stream",
          "name": "stderr",
          "text": [
            "<ipython-input-10-4182c8b53073>:51: FutureWarning: The frame.append method is deprecated and will be removed from pandas in a future version. Use pandas.concat instead.\n",
            "  df = df.append(network_stats, ignore_index=True)\n"
          ]
        },
        {
          "output_type": "stream",
          "name": "stdout",
          "text": [
            "Year: 1989, Target_Nodes:  498, Nodes: 2747, Edges: 4610\n"
          ]
        },
        {
          "output_type": "stream",
          "name": "stderr",
          "text": [
            "<ipython-input-10-4182c8b53073>:51: FutureWarning: The frame.append method is deprecated and will be removed from pandas in a future version. Use pandas.concat instead.\n",
            "  df = df.append(network_stats, ignore_index=True)\n"
          ]
        },
        {
          "output_type": "stream",
          "name": "stdout",
          "text": [
            "Year: 1990, Target_Nodes:  584, Nodes: 3552, Edges: 6496\n"
          ]
        },
        {
          "output_type": "stream",
          "name": "stderr",
          "text": [
            "<ipython-input-10-4182c8b53073>:51: FutureWarning: The frame.append method is deprecated and will be removed from pandas in a future version. Use pandas.concat instead.\n",
            "  df = df.append(network_stats, ignore_index=True)\n"
          ]
        },
        {
          "output_type": "stream",
          "name": "stdout",
          "text": [
            "Year: 1991, Target_Nodes:  731, Nodes: 4262, Edges: 7737\n"
          ]
        },
        {
          "output_type": "stream",
          "name": "stderr",
          "text": [
            "<ipython-input-10-4182c8b53073>:51: FutureWarning: The frame.append method is deprecated and will be removed from pandas in a future version. Use pandas.concat instead.\n",
            "  df = df.append(network_stats, ignore_index=True)\n"
          ]
        },
        {
          "output_type": "stream",
          "name": "stdout",
          "text": [
            "Year: 1992, Target_Nodes:  891, Nodes: 5587, Edges: 10755\n"
          ]
        },
        {
          "output_type": "stream",
          "name": "stderr",
          "text": [
            "<ipython-input-10-4182c8b53073>:51: FutureWarning: The frame.append method is deprecated and will be removed from pandas in a future version. Use pandas.concat instead.\n",
            "  df = df.append(network_stats, ignore_index=True)\n"
          ]
        },
        {
          "output_type": "stream",
          "name": "stdout",
          "text": [
            "Year: 1993, Target_Nodes:  1040, Nodes: 6375, Edges: 13158\n"
          ]
        },
        {
          "output_type": "stream",
          "name": "stderr",
          "text": [
            "<ipython-input-10-4182c8b53073>:51: FutureWarning: The frame.append method is deprecated and will be removed from pandas in a future version. Use pandas.concat instead.\n",
            "  df = df.append(network_stats, ignore_index=True)\n"
          ]
        },
        {
          "output_type": "stream",
          "name": "stdout",
          "text": [
            "Year: 1994, Target_Nodes:  1320, Nodes: 8380, Edges: 17537\n"
          ]
        },
        {
          "output_type": "stream",
          "name": "stderr",
          "text": [
            "<ipython-input-10-4182c8b53073>:51: FutureWarning: The frame.append method is deprecated and will be removed from pandas in a future version. Use pandas.concat instead.\n",
            "  df = df.append(network_stats, ignore_index=True)\n"
          ]
        },
        {
          "output_type": "stream",
          "name": "stdout",
          "text": [
            "Year: 1995, Target_Nodes:  1548, Nodes: 9894, Edges: 22269\n"
          ]
        },
        {
          "output_type": "stream",
          "name": "stderr",
          "text": [
            "<ipython-input-10-4182c8b53073>:51: FutureWarning: The frame.append method is deprecated and will be removed from pandas in a future version. Use pandas.concat instead.\n",
            "  df = df.append(network_stats, ignore_index=True)\n"
          ]
        },
        {
          "output_type": "stream",
          "name": "stdout",
          "text": [
            "Year: 1996, Target_Nodes:  1722, Nodes: 11346, Edges: 25730\n"
          ]
        },
        {
          "output_type": "stream",
          "name": "stderr",
          "text": [
            "<ipython-input-10-4182c8b53073>:51: FutureWarning: The frame.append method is deprecated and will be removed from pandas in a future version. Use pandas.concat instead.\n",
            "  df = df.append(network_stats, ignore_index=True)\n"
          ]
        },
        {
          "output_type": "stream",
          "name": "stdout",
          "text": [
            "Year: 1997, Target_Nodes:  2007, Nodes: 13211, Edges: 31039\n"
          ]
        },
        {
          "output_type": "stream",
          "name": "stderr",
          "text": [
            "<ipython-input-10-4182c8b53073>:51: FutureWarning: The frame.append method is deprecated and will be removed from pandas in a future version. Use pandas.concat instead.\n",
            "  df = df.append(network_stats, ignore_index=True)\n"
          ]
        },
        {
          "output_type": "stream",
          "name": "stdout",
          "text": [
            "Year: 1998, Target_Nodes:  2010, Nodes: 13794, Edges: 33296\n"
          ]
        },
        {
          "output_type": "stream",
          "name": "stderr",
          "text": [
            "<ipython-input-10-4182c8b53073>:51: FutureWarning: The frame.append method is deprecated and will be removed from pandas in a future version. Use pandas.concat instead.\n",
            "  df = df.append(network_stats, ignore_index=True)\n"
          ]
        },
        {
          "output_type": "stream",
          "name": "stdout",
          "text": [
            "Year: 1999, Target_Nodes:  2355, Nodes: 16679, Edges: 40688\n"
          ]
        },
        {
          "output_type": "stream",
          "name": "stderr",
          "text": [
            "<ipython-input-10-4182c8b53073>:51: FutureWarning: The frame.append method is deprecated and will be removed from pandas in a future version. Use pandas.concat instead.\n",
            "  df = df.append(network_stats, ignore_index=True)\n"
          ]
        },
        {
          "output_type": "stream",
          "name": "stdout",
          "text": [
            "Year: 2000, Target_Nodes:  2517, Nodes: 18441, Edges: 48809\n"
          ]
        },
        {
          "output_type": "stream",
          "name": "stderr",
          "text": [
            "<ipython-input-10-4182c8b53073>:51: FutureWarning: The frame.append method is deprecated and will be removed from pandas in a future version. Use pandas.concat instead.\n",
            "  df = df.append(network_stats, ignore_index=True)\n"
          ]
        },
        {
          "output_type": "stream",
          "name": "stdout",
          "text": [
            "Year: 2001, Target_Nodes:  2851, Nodes: 22076, Edges: 64947\n"
          ]
        },
        {
          "output_type": "stream",
          "name": "stderr",
          "text": [
            "<ipython-input-10-4182c8b53073>:51: FutureWarning: The frame.append method is deprecated and will be removed from pandas in a future version. Use pandas.concat instead.\n",
            "  df = df.append(network_stats, ignore_index=True)\n"
          ]
        },
        {
          "output_type": "stream",
          "name": "stdout",
          "text": [
            "Year: 2002, Target_Nodes:  3365, Nodes: 26409, Edges: 78676\n"
          ]
        },
        {
          "output_type": "stream",
          "name": "stderr",
          "text": [
            "<ipython-input-10-4182c8b53073>:51: FutureWarning: The frame.append method is deprecated and will be removed from pandas in a future version. Use pandas.concat instead.\n",
            "  df = df.append(network_stats, ignore_index=True)\n"
          ]
        },
        {
          "output_type": "stream",
          "name": "stdout",
          "text": [
            "Year: 2003, Target_Nodes:  3765, Nodes: 30875, Edges: 103406\n"
          ]
        },
        {
          "output_type": "stream",
          "name": "stderr",
          "text": [
            "<ipython-input-10-4182c8b53073>:51: FutureWarning: The frame.append method is deprecated and will be removed from pandas in a future version. Use pandas.concat instead.\n",
            "  df = df.append(network_stats, ignore_index=True)\n"
          ]
        },
        {
          "output_type": "stream",
          "name": "stdout",
          "text": [
            "Year: 2004, Target_Nodes:  4313, Nodes: 36661, Edges: 125580\n"
          ]
        },
        {
          "output_type": "stream",
          "name": "stderr",
          "text": [
            "<ipython-input-10-4182c8b53073>:51: FutureWarning: The frame.append method is deprecated and will be removed from pandas in a future version. Use pandas.concat instead.\n",
            "  df = df.append(network_stats, ignore_index=True)\n"
          ]
        },
        {
          "output_type": "stream",
          "name": "stdout",
          "text": [
            "Year: 2005, Target_Nodes:  4877, Nodes: 45216, Edges: 168380\n"
          ]
        },
        {
          "output_type": "stream",
          "name": "stderr",
          "text": [
            "<ipython-input-10-4182c8b53073>:51: FutureWarning: The frame.append method is deprecated and will be removed from pandas in a future version. Use pandas.concat instead.\n",
            "  df = df.append(network_stats, ignore_index=True)\n"
          ]
        },
        {
          "output_type": "stream",
          "name": "stdout",
          "text": [
            "Year: 2006, Target_Nodes:  5674, Nodes: 54829, Edges: 209058\n"
          ]
        },
        {
          "output_type": "stream",
          "name": "stderr",
          "text": [
            "<ipython-input-10-4182c8b53073>:51: FutureWarning: The frame.append method is deprecated and will be removed from pandas in a future version. Use pandas.concat instead.\n",
            "  df = df.append(network_stats, ignore_index=True)\n"
          ]
        },
        {
          "output_type": "stream",
          "name": "stdout",
          "text": [
            "Year: 2007, Target_Nodes:  6175, Nodes: 62800, Edges: 245985\n"
          ]
        },
        {
          "output_type": "stream",
          "name": "stderr",
          "text": [
            "<ipython-input-10-4182c8b53073>:51: FutureWarning: The frame.append method is deprecated and will be removed from pandas in a future version. Use pandas.concat instead.\n",
            "  df = df.append(network_stats, ignore_index=True)\n"
          ]
        },
        {
          "output_type": "stream",
          "name": "stdout",
          "text": [
            "Year: 2008, Target_Nodes:  7008, Nodes: 70837, Edges: 278069\n"
          ]
        },
        {
          "output_type": "stream",
          "name": "stderr",
          "text": [
            "<ipython-input-10-4182c8b53073>:51: FutureWarning: The frame.append method is deprecated and will be removed from pandas in a future version. Use pandas.concat instead.\n",
            "  df = df.append(network_stats, ignore_index=True)\n"
          ]
        },
        {
          "output_type": "stream",
          "name": "stdout",
          "text": [
            "Year: 2009, Target_Nodes:  7114, Nodes: 75272, Edges: 304186\n"
          ]
        },
        {
          "output_type": "stream",
          "name": "stderr",
          "text": [
            "<ipython-input-10-4182c8b53073>:51: FutureWarning: The frame.append method is deprecated and will be removed from pandas in a future version. Use pandas.concat instead.\n",
            "  df = df.append(network_stats, ignore_index=True)\n"
          ]
        },
        {
          "output_type": "stream",
          "name": "stdout",
          "text": [
            "Year: 2010, Target_Nodes:  6145, Nodes: 67481, Edges: 285269\n"
          ]
        },
        {
          "output_type": "stream",
          "name": "stderr",
          "text": [
            "<ipython-input-10-4182c8b53073>:51: FutureWarning: The frame.append method is deprecated and will be removed from pandas in a future version. Use pandas.concat instead.\n",
            "  df = df.append(network_stats, ignore_index=True)\n"
          ]
        },
        {
          "output_type": "stream",
          "name": "stdout",
          "text": [
            "Year: 2011, Target_Nodes:  4412, Nodes: 52249, Edges: 217967\n"
          ]
        }
      ]
    },
    {
      "cell_type": "code",
      "source": [
        "# 输出目标作者数量（所有年份的目标作者总和）\n",
        "all_target_authors = set()\n",
        "for target_authors in target_authors_by_year.values():\n",
        "    all_target_authors.update(target_authors)\n",
        "print(\"目标作者数量：\", len(all_target_authors))"
      ],
      "metadata": {
        "colab": {
          "base_uri": "https://localhost:8080/"
        },
        "id": "3HI-e_EAuWDV",
        "outputId": "8c48d17e-b733-4d0a-87a8-b5dc0415b20c"
      },
      "execution_count": null,
      "outputs": [
        {
          "output_type": "stream",
          "name": "stdout",
          "text": [
            "目标作者数量： 75745\n"
          ]
        }
      ]
    },
    {
      "cell_type": "code",
      "source": [
        "# 输出目标作者数量（所有年份的目标作者总和）\n",
        "all_target_authors = set()\n",
        "for target_authors in target_authors_by_year.values():\n",
        "    all_target_authors.update(target_authors)\n",
        "print(\"目标作者数量：\", len(all_target_authors))"
      ],
      "metadata": {
        "id": "2tX4NxDtcY4c",
        "colab": {
          "base_uri": "https://localhost:8080/"
        },
        "outputId": "82e0691c-bffe-4474-8cfa-fd4abe3736be"
      },
      "execution_count": null,
      "outputs": [
        {
          "output_type": "stream",
          "name": "stdout",
          "text": [
            "目标作者数量： 92623\n"
          ]
        }
      ]
    },
    {
      "cell_type": "markdown",
      "source": [
        "Year: 1971, Target_Nodes:  23, Nodes: 92, Edges: 109\n",
        "Year: 1972, Target_Nodes:  38, Nodes: 152, Edges: 191\n",
        "Year: 1973, Target_Nodes:  51, Nodes: 194, Edges: 209\n",
        "Year: 1974, Target_Nodes:  46, Nodes: 174, Edges: 209\n",
        "Year: 1975, Target_Nodes:  71, Nodes: 323, Edges: 448\n",
        "Year: 1976, Target_Nodes:  90, Nodes: 394, Edges: 542\n",
        "Year: 1977, Target_Nodes:  138, Nodes: 623, Edges: 935\n",
        "Year: 1978, Target_Nodes:  154, Nodes: 695, Edges: 1087\n",
        "Year: 1979, Target_Nodes:  133, Nodes: 544, Edges: 766\n",
        "Year: 1980, Target_Nodes:  183, Nodes: 755, Edges: 1040\n",
        "Year: 1981, Target_Nodes:  204, Nodes: 894, Edges: 1260\n",
        "Year: 1982, Target_Nodes:  166, Nodes: 766, Edges: 1166\n",
        "Year: 1983, Target_Nodes:  232, Nodes: 1000, Edges: 1446\n",
        "Year: 1984, Target_Nodes:  262, Nodes: 1101, Edges: 1743\n",
        "Year: 1985, Target_Nodes:  329, Nodes: 1479, Edges: 2385\n",
        "Year: 1986, Target_Nodes:  416, Nodes: 1972, Edges: 3353\n",
        "Year: 1987, Target_Nodes:  498, Nodes: 2320, Edges: 3742\n",
        "Year: 1988, Target_Nodes:  532, Nodes: 2588, Edges: 4257\n",
        "Year: 1989, Target_Nodes:  648, Nodes: 3141, Edges: 5062\n",
        "Year: 1990, Target_Nodes:  767, Nodes: 4065, Edges: 7286\n",
        "Year: 1991, Target_Nodes:  904, Nodes: 4758, Edges: 8381\n",
        "Year: 1992, Target_Nodes:  1127, Nodes: 6278, Edges: 11779\n",
        "Year: 1993, Target_Nodes:  1268, Nodes: 6969, Edges: 13991\n",
        "Year: 1994, Target_Nodes:  1603, Nodes: 9145, Edges: 18687\n",
        "Year: 1995, Target_Nodes:  1919, Nodes: 10945, Edges: 23906\n",
        "Year: 1996, Target_Nodes:  2151, Nodes: 12533, Edges: 27821\n",
        "Year: 1997, Target_Nodes:  2565, Nodes: 14698, Edges: 33500\n",
        "Year: 1998, Target_Nodes:  2675, Nodes: 15648, Edges: 36296\n",
        "Year: 1999, Target_Nodes:  3114, Nodes: 18925, Edges: 45126\n",
        "Year: 2000, Target_Nodes:  3236, Nodes: 20595, Edges: 54830\n",
        "Year: 2001, Target_Nodes:  3673, Nodes: 24461, Edges: 69515\n",
        "Year: 2002, Target_Nodes:  4378, Nodes: 29557, Edges: 85679\n",
        "Year: 2003, Target_Nodes:  4753, Nodes: 33962, Edges: 109944\n",
        "Year: 2004, Target_Nodes:  5367, Nodes: 39932, Edges: 133145\n",
        "Year: 2005, Target_Nodes:  5947, Nodes: 48583, Edges: 175892\n",
        "Year: 2006, Target_Nodes:  6741, Nodes: 58255, Edges: 219696\n",
        "Year: 2007, Target_Nodes:  7252, Nodes: 66321, Edges: 255519\n",
        "Year: 2008, Target_Nodes:  8199, Nodes: 74878, Edges: 289305\n",
        "Year: 2009, Target_Nodes:  8306, Nodes: 79358, Edges: 315556\n",
        "Year: 2010, Target_Nodes:  7279, Nodes: 71764, Edges: 298430\n",
        "Year: 2011, Target_Nodes:  5185, Nodes: 55315, Edges: 230000"
      ],
      "metadata": {
        "id": "cyWf74jtccUk"
      }
    },
    {
      "cell_type": "markdown",
      "source": [
        "目标作者数量： 92623"
      ],
      "metadata": {
        "id": "PUuM4TBEcaJc"
      }
    },
    {
      "cell_type": "code",
      "source": [
        "graph = merged_network\n",
        "print(f\"Nodes: {graph.number_of_nodes()}, Edges: {graph.number_of_edges()}\")"
      ],
      "metadata": {
        "id": "Y7CFmohacjMc",
        "colab": {
          "base_uri": "https://localhost:8080/"
        },
        "outputId": "584c1721-3cc6-4cd9-92f8-4a7a19325425"
      },
      "execution_count": null,
      "outputs": [
        {
          "output_type": "stream",
          "name": "stdout",
          "text": [
            "Nodes: 726152, Edges: 2494234\n"
          ]
        }
      ]
    },
    {
      "cell_type": "code",
      "source": [
        "graph = merged_network\n",
        "print(f\"Nodes: {graph.number_of_nodes()}, Edges: {graph.number_of_edges()}\")"
      ],
      "metadata": {
        "colab": {
          "base_uri": "https://localhost:8080/"
        },
        "id": "VYGAshlIvN4U",
        "outputId": "ae5f44f3-2518-406b-ea5e-1fc60b30e654"
      },
      "execution_count": null,
      "outputs": [
        {
          "output_type": "stream",
          "name": "stdout",
          "text": [
            "Nodes: 673075, Edges: 2366059\n"
          ]
        }
      ]
    },
    {
      "cell_type": "code",
      "source": [
        "calculate_network_stats(graph)"
      ],
      "metadata": {
        "colab": {
          "base_uri": "https://localhost:8080/"
        },
        "id": "9mAxycooXOse",
        "outputId": "afed92f9-f172-4a51-c2cf-1c79a064b0d2"
      },
      "execution_count": null,
      "outputs": [
        {
          "output_type": "execute_result",
          "data": {
            "text/plain": [
              "{'Nodes': 673075,\n",
              " 'Edges': 2366059,\n",
              " 'Clustering coefficient': 0.6837628916997012,\n",
              " 'Density': 1.044550138870488e-05}"
            ]
          },
          "metadata": {},
          "execution_count": 13
        }
      ]
    },
    {
      "cell_type": "markdown",
      "source": [
        "Nodes: 726152, Edges: 2494234"
      ],
      "metadata": {
        "id": "VhM5ryf1clil"
      }
    },
    {
      "cell_type": "code",
      "source": [
        "import pickle\n",
        "\n",
        "# 将Python对象保存到文件中\n",
        "with open(\"/content/drive/MyDrive/GNNdataset/merged_network_pub53\", \"wb\") as f:\n",
        "    pickle.dump(merged_network, f)"
      ],
      "metadata": {
        "id": "IT3sLoIHcl1X"
      },
      "execution_count": null,
      "outputs": []
    },
    {
      "cell_type": "code",
      "source": [
        "import pickle\n",
        "\n",
        "# 将Python对象保存到文件中\n",
        "with open(\"/content/drive/MyDrive/GNNdataset/target_authors_by_year_pub53\", \"wb\") as f:\n",
        "    pickle.dump(target_authors_by_year, f)"
      ],
      "metadata": {
        "id": "1d263bGLcosd"
      },
      "execution_count": null,
      "outputs": []
    }
  ]
}